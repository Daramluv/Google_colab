{
  "nbformat": 4,
  "nbformat_minor": 0,
  "metadata": {
    "colab": {
      "provenance": [],
      "authorship_tag": "ABX9TyPncUivwyE0PnN/fzDzPn5x",
      "include_colab_link": true
    },
    "kernelspec": {
      "name": "python3",
      "display_name": "Python 3"
    },
    "language_info": {
      "name": "python"
    }
  },
  "cells": [
    {
      "cell_type": "markdown",
      "metadata": {
        "id": "view-in-github",
        "colab_type": "text"
      },
      "source": [
        "<a href=\"https://colab.research.google.com/github/Daramluv/Google_colab/blob/main/Transportation_Optimization.ipynb\" target=\"_parent\"><img src=\"https://colab.research.google.com/assets/colab-badge.svg\" alt=\"Open In Colab\"/></a>"
      ]
    },
    {
      "cell_type": "code",
      "execution_count": 1,
      "metadata": {
        "colab": {
          "base_uri": "https://localhost:8080/"
        },
        "id": "FnWEDnJZCO37",
        "outputId": "c72a5a58-27c2-4bc1-c52e-658fea4c53a8"
      },
      "outputs": [
        {
          "output_type": "stream",
          "name": "stdout",
          "text": [
            "Collecting gurobipy\n",
            "  Downloading gurobipy-12.0.0-cp310-cp310-manylinux2014_x86_64.manylinux_2_17_x86_64.whl.metadata (15 kB)\n",
            "Downloading gurobipy-12.0.0-cp310-cp310-manylinux2014_x86_64.manylinux_2_17_x86_64.whl (14.4 MB)\n",
            "\u001b[2K   \u001b[90m━━━━━━━━━━━━━━━━━━━━━━━━━━━━━━━━━━━━━━━━\u001b[0m \u001b[32m14.4/14.4 MB\u001b[0m \u001b[31m34.8 MB/s\u001b[0m eta \u001b[36m0:00:00\u001b[0m\n",
            "\u001b[?25hInstalling collected packages: gurobipy\n",
            "Successfully installed gurobipy-12.0.0\n"
          ]
        }
      ],
      "source": [
        "%pip install gurobipy"
      ]
    },
    {
      "cell_type": "code",
      "source": [
        "from itertools import product\n",
        "from math import sqrt, factorial\n",
        "import numpy as np\n",
        "import gurobipy as gp\n",
        "from gurobipy import GRB"
      ],
      "metadata": {
        "id": "GxLcTUu7CQla"
      },
      "execution_count": 2,
      "outputs": []
    },
    {
      "cell_type": "code",
      "source": [
        "#####################################################\n",
        "#                    Model Formulation\n",
        "#####################################################\n",
        "\n",
        "m = gp.Model('tomato shipping')\n",
        "\n",
        "# indices for companies and routes\n",
        "plant = [*range(0,3)]\n",
        "customer = [*range(5,7)]\n",
        "transit = [*range(3,5)]\n",
        "node = [*range(0,7)]\n",
        "\n",
        "# print(plant)\n",
        "# print(customer)\n",
        "# print(transit)\n",
        "\n",
        "\n",
        "# shipping cost\n",
        "c = [[0.0,\t5.0,\t3.0,\t5.0,\t5.0,\t20.0,\t20.0],\n",
        "    [9.0,\t0.0,\t9.0,\t1.0,\t1.0,\t8.0,\t15.0],\n",
        "    [0.4,\t8.0,\t0.0,\t1.0,\t0.5,\t10.0,\t12.0],\n",
        "    [0.0,\t0.0,\t0.0,\t0.0,\t1.2,\t2.0,\t12.0],\n",
        "    [0.0,\t0.0,\t0.0,\t0.8,\t0.0,\t2.0,\t12.0],\n",
        "    [0.0,\t0.0,\t0.0,\t0.0,\t0.0,\t0.0,\t1.0],\n",
        "    [0.0,\t0.0,\t0.0,\t0.0,\t0.0,\t7.0,\t0.0]]\n",
        "\n",
        "d = [0.0, 0.0, 0.0, 0.0, 0.0, 400.0, 180.0]\n",
        "\n",
        "s = [200.0, 300.0, 100.0, 0.0, 0.0, 0.0, 0.0]\n",
        "\n",
        "T = 200\n",
        "\n",
        "# Valid set of tuples\n",
        "A = []\n",
        "for i in node:\n",
        "    for j in node:\n",
        "        if c[i][j] > 0:\n",
        "            tp = i,j\n",
        "            A.append(tp)\n",
        "\n",
        "# take a look at the set\n",
        "# print(np.matrix(A))\n",
        "\n",
        "# valid set of inbound routes for node j\n",
        "AI = []\n",
        "k = 0\n",
        "for l in node:\n",
        "    A_temp = []\n",
        "    for i in node:\n",
        "        for j in node:\n",
        "            if c[i][j] > 0:\n",
        "                if j==k:\n",
        "                    tp = i,j\n",
        "                    A_temp.append(tp)\n",
        "    AI.append(A_temp)\n",
        "    k+=1\n",
        "\n",
        "# take a look at a sample\n",
        "# print(np.matrix(AI[0]))\n",
        "\n",
        "# valid set of outbound routes for node j\n",
        "AO = []\n",
        "k = 0\n",
        "for l in node:\n",
        "    A_temp = []\n",
        "    for i in node:\n",
        "        for j in node:\n",
        "            if c[i][j] > 0:\n",
        "                if i==k:\n",
        "                    tp = i,j\n",
        "                    A_temp.append(tp)\n",
        "    AO.append(A_temp)\n",
        "    k+=1\n",
        "\n",
        "# take a look at a sample\n",
        "# print(np.matrix(AO[0]))\n",
        "\n",
        "# Build decision variables: where to assign company i to route j\n",
        "x = m.addVars(A, vtype=GRB.CONTINUOUS, name='Ship')\n",
        "\n",
        "# Objective function: Minimize total shipment cost\n",
        "m.setObjective(gp.quicksum(c[i][j]*x[(i,j)] for i,j in A), GRB.MINIMIZE)\n",
        "\n",
        "# Satisfy customer demand\n",
        "demandConstrs = m.addConstrs((gp.quicksum(x[(i,j)] for i,j in AI[j]) - gp.quicksum(x[(j,k)] for j,k in AO[j]) >= d[j] for j in customer),\n",
        "                                      name='demandConstrs')\n",
        "\n",
        "# Cannot exceed plant capacity\n",
        "supplyConstrs = m.addConstrs((gp.quicksum(x[(i,j)] for i,j in AO[i]) - gp.quicksum(x[(k,i)] for k,i in AI[i]) <= s[i] for i in plant),\n",
        "                                      name='supplyConstrs')\n",
        "\n",
        "# Blanacing for transit nodes\n",
        "transitConstrs = m.addConstrs((gp.quicksum(x[(i,j)] for i,j in AI[j]) - gp.quicksum(x[(j,k)] for j,k in AO[j]) == 0 for j in transit),\n",
        "                                      name='transitConstrs')\n",
        "\n",
        "# Shipment capacity constraint\n",
        "capacityConstrs = m.addConstrs((x[(i,j)] <= T for i,j in A),\n",
        "                                      name='capacityConstrs')\n",
        "\n",
        "# Run optimization engine\n",
        "m.optimize()"
      ],
      "metadata": {
        "colab": {
          "base_uri": "https://localhost:8080/"
        },
        "id": "N5nII0E9CVKF",
        "outputId": "be0e495d-cec0-498a-a757-632b7241f997"
      },
      "execution_count": 3,
      "outputs": [
        {
          "output_type": "stream",
          "name": "stdout",
          "text": [
            "Restricted license - for non-production use only - expires 2026-11-23\n",
            "Gurobi Optimizer version 12.0.0 build v12.0.0rc1 (linux64 - \"Ubuntu 22.04.3 LTS\")\n",
            "\n",
            "CPU model: Intel(R) Xeon(R) CPU @ 2.20GHz, instruction set [SSE2|AVX|AVX2]\n",
            "Thread count: 1 physical cores, 2 logical processors, using up to 2 threads\n",
            "\n",
            "Optimize a model with 33 rows, 26 columns and 78 nonzeros\n",
            "Model fingerprint: 0x27e79db7\n",
            "Coefficient statistics:\n",
            "  Matrix range     [1e+00, 1e+00]\n",
            "  Objective range  [4e-01, 2e+01]\n",
            "  Bounds range     [0e+00, 0e+00]\n",
            "  RHS range        [1e+02, 4e+02]\n",
            "Presolve removed 26 rows and 0 columns\n",
            "Presolve time: 0.01s\n",
            "Presolved: 7 rows, 26 columns, 52 nonzeros\n",
            "\n",
            "Iteration    Objective       Primal Inf.    Dual Inf.      Time\n",
            "       0    0.0000000e+00   7.250000e+01   0.000000e+00      0s\n",
            "       7    3.2600000e+03   0.000000e+00   0.000000e+00      0s\n",
            "\n",
            "Solved in 7 iterations and 0.02 seconds (0.00 work units)\n",
            "Optimal objective  3.260000000e+03\n"
          ]
        }
      ]
    },
    {
      "cell_type": "code",
      "source": [
        "#####################################################\n",
        "#         Shipment results\n",
        "#####################################################\n",
        "\n",
        "print(f\"\\n\\n___Optimal shipment from plants to customers________\")\n",
        "t_cost = 0\n",
        "for i,j in A:\n",
        "    if x[(i,j)].x > 0:\n",
        "        if i<=2:\n",
        "          s_node_type = \"plant\"\n",
        "        elif i<=4:\n",
        "          s_node_type = \"warehouse\"\n",
        "        else:\n",
        "          s_node_type = \"customer\"\n",
        "        if j<=2:\n",
        "          d_node_type = \"plant\"\n",
        "        elif j<=4:\n",
        "          d_node_type = \"warehouse\"\n",
        "        else:\n",
        "          d_node_type = \"customer\"\n",
        "\n",
        "        print(\"Shipping %4d tons from %s %2d to %s %2d\" % (x[(i,j)].x, s_node_type, i+1, d_node_type, j+1))\n",
        "        t_cost += x[(i,j)].x*c[i][j]\n",
        "\n",
        "print(\"The total cost of satisfying customer demand is $%5d\" % (t_cost))\n"
      ],
      "metadata": {
        "colab": {
          "base_uri": "https://localhost:8080/"
        },
        "id": "S9lQCHRqCYsz",
        "outputId": "e0775a43-fb6f-4d99-a4af-5e6419ce7641"
      },
      "execution_count": 4,
      "outputs": [
        {
          "output_type": "stream",
          "name": "stdout",
          "text": [
            "\n",
            "\n",
            "___Optimal shipment from plants to customers________\n",
            "Shipping  180 tons from plant  1 to plant  3\n",
            "Shipping  120 tons from plant  2 to warehouse  4\n",
            "Shipping  180 tons from plant  2 to customer  6\n",
            "Shipping   80 tons from plant  3 to warehouse  4\n",
            "Shipping  200 tons from plant  3 to warehouse  5\n",
            "Shipping  200 tons from warehouse  4 to customer  6\n",
            "Shipping  200 tons from warehouse  5 to customer  6\n",
            "Shipping  180 tons from customer  6 to customer  7\n",
            "The total cost of satisfying customer demand is $ 3260\n"
          ]
        }
      ]
    },
    {
      "cell_type": "markdown",
      "source": [
        "##  Conclusion\n",
        "\n",
        "In this example, we addressed the tomato shipping problem. We determined the optimal shipment  of tomatos from plants to customers:\n",
        "* Satisfy demand for each customer,\n",
        "* Minimize the total shipping cost,  \n",
        "* Ensure plant capacities are not exceeded, and\n",
        "* Utilize transhipment to reduce shipping cost.\n",
        "\n",
        "A special technique in the model formulation is sparse reprentation, where we significantly reduce the number of decision variables by restricting the set of decisions to be on the valid routes only. This benefit becomes more significant as problem size grows.\n",
        "\n",
        "This tomato shipment model can be used in many different settings to help companies make informed decisions about satisfying customer demands from a set of plants where there are transit stations allowing for transhipments.\n"
      ],
      "metadata": {
        "id": "t_7nkflECd4l"
      }
    }
  ]
}