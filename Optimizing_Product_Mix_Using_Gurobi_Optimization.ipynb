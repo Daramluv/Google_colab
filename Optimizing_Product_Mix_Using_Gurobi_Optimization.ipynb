{
  "nbformat": 4,
  "nbformat_minor": 0,
  "metadata": {
    "colab": {
      "provenance": [],
      "authorship_tag": "ABX9TyOn6c13zeE5cnbkM7/L3HV2",
      "include_colab_link": true
    },
    "kernelspec": {
      "name": "python3",
      "display_name": "Python 3"
    },
    "language_info": {
      "name": "python"
    }
  },
  "cells": [
    {
      "cell_type": "markdown",
      "metadata": {
        "id": "view-in-github",
        "colab_type": "text"
      },
      "source": [
        "<a href=\"https://colab.research.google.com/github/Daramluv/Google_colab/blob/main/Optimizing_Product_Mix_Using_Gurobi_Optimization.ipynb\" target=\"_parent\"><img src=\"https://colab.research.google.com/assets/colab-badge.svg\" alt=\"Open In Colab\"/></a>"
      ]
    },
    {
      "cell_type": "code",
      "execution_count": 1,
      "metadata": {
        "colab": {
          "base_uri": "https://localhost:8080/",
          "height": 0
        },
        "id": "OT8IrhNpv8cg",
        "outputId": "a50472f0-ceff-4c05-f3b1-3d34e9930c68"
      },
      "outputs": [
        {
          "output_type": "stream",
          "name": "stdout",
          "text": [
            "Collecting gurobipy\n",
            "  Downloading gurobipy-12.0.0-cp310-cp310-manylinux2014_x86_64.manylinux_2_17_x86_64.whl.metadata (15 kB)\n",
            "Downloading gurobipy-12.0.0-cp310-cp310-manylinux2014_x86_64.manylinux_2_17_x86_64.whl (14.4 MB)\n",
            "\u001b[2K   \u001b[90m━━━━━━━━━━━━━━━━━━━━━━━━━━━━━━━━━━━━━━━━\u001b[0m \u001b[32m14.4/14.4 MB\u001b[0m \u001b[31m14.7 MB/s\u001b[0m eta \u001b[36m0:00:00\u001b[0m\n",
            "\u001b[?25hInstalling collected packages: gurobipy\n",
            "Successfully installed gurobipy-12.0.0\n"
          ]
        }
      ],
      "source": [
        "pip install gurobipy"
      ]
    },
    {
      "cell_type": "code",
      "source": [
        "import gurobipy as gp\n",
        "from gurobipy import GRB\n",
        "import numpy as np\n"
      ],
      "metadata": {
        "id": "djmxHbBIv98q"
      },
      "execution_count": 2,
      "outputs": []
    },
    {
      "cell_type": "code",
      "source": [
        "# Create a new Gurobi model\n",
        "model = gp.Model(\"ProductMix\")\n",
        "\n",
        "# Data\n",
        "type_Products = 2\n",
        "type_Labor=2\n",
        "laborCost =np.array([11,15])\n",
        "laborHours=np.array([[5,6],[1,2]])\n",
        "costComponents=np.array([150,225])\n",
        "sellingPrice=np.array([300,450])\n",
        "MaxProducts=np.array([600,1200])\n",
        "maxLaborHours=np.array([10000,3000])"
      ],
      "metadata": {
        "colab": {
          "base_uri": "https://localhost:8080/",
          "height": 0
        },
        "id": "7coGngqgwD-e",
        "outputId": "ed64b428-fef8-40fa-a3fa-1e1f3816bf95"
      },
      "execution_count": 3,
      "outputs": [
        {
          "output_type": "stream",
          "name": "stdout",
          "text": [
            "Restricted license - for non-production use only - expires 2026-11-23\n"
          ]
        }
      ]
    },
    {
      "cell_type": "code",
      "source": [
        "# Create the decision variables\n",
        "x = {}\n",
        "for j in range(type_Products):\n",
        "    x[j] = model.addVar(vtype=GRB.INTEGER, name=f\"x_{j}\")\n"
      ],
      "metadata": {
        "id": "alvqYcVWwGza"
      },
      "execution_count": 4,
      "outputs": []
    },
    {
      "cell_type": "code",
      "source": [
        "\n",
        "# Set objective: maximize profit\n",
        "model.setObjective(\n",
        "    gp.quicksum((sellingPrice[j] - costComponents[j] - laborHours[0,j] * laborCost[0] - laborHours[1,j] * laborCost[1]) * x[j]  for j in range(type_Products)),\n",
        "    GRB.MAXIMIZE,\n",
        ")"
      ],
      "metadata": {
        "id": "fCGSPXKFwI3c"
      },
      "execution_count": 5,
      "outputs": []
    },
    {
      "cell_type": "code",
      "source": [
        "# Constraints\n",
        "\n",
        "\n",
        "# Ensure Max number of Products\n",
        "for c in range(type_Products):\n",
        "    model.addConstr(x[c] <= MaxProducts[c], f\"Max No of Products{c}\")\n",
        "\n",
        "# Ensure Max labor Hours\n",
        "for j in range(type_Labor):\n",
        "    model.addConstr(gp.quicksum(laborHours[j,c] * x[c] for c in range(type_Products))  <= maxLaborHours[j] ,f'Max labor hours')"
      ],
      "metadata": {
        "id": "2FBAsQKpwKbh"
      },
      "execution_count": 6,
      "outputs": []
    },
    {
      "cell_type": "code",
      "source": [
        "\n",
        "# Optimize the model\n",
        "model.optimize()\n",
        "\n",
        "# Print the results\n",
        "if model.status == GRB.OPTIMAL:\n",
        "    print(\"Optimal solution found:\")\n",
        "    for j in range(type_Products):\n",
        "        if x[j].x > 0:\n",
        "            print(f\"Computer {j + 1}\",x[j].x )\n",
        "\n",
        "    print(f\"Total Profit: ${model.objVal:.2f}\")\n",
        "else:\n",
        "    print(\"No solution found.\")"
      ],
      "metadata": {
        "colab": {
          "base_uri": "https://localhost:8080/",
          "height": 0
        },
        "id": "bsLtgboYwL6V",
        "outputId": "cd2c6c17-0146-4344-80e3-a1610bc591ce"
      },
      "execution_count": 7,
      "outputs": [
        {
          "output_type": "stream",
          "name": "stdout",
          "text": [
            "Gurobi Optimizer version 12.0.0 build v12.0.0rc1 (linux64 - \"Ubuntu 22.04.3 LTS\")\n",
            "\n",
            "CPU model: Intel(R) Xeon(R) CPU @ 2.20GHz, instruction set [SSE2|AVX|AVX2]\n",
            "Thread count: 1 physical cores, 2 logical processors, using up to 2 threads\n",
            "\n",
            "Optimize a model with 4 rows, 2 columns and 6 nonzeros\n",
            "Model fingerprint: 0x3beb90c4\n",
            "Variable types: 0 continuous, 2 integer (0 binary)\n",
            "Coefficient statistics:\n",
            "  Matrix range     [1e+00, 6e+00]\n",
            "  Objective range  [8e+01, 1e+02]\n",
            "  Bounds range     [0e+00, 0e+00]\n",
            "  RHS range        [6e+02, 1e+04]\n",
            "Found heuristic solution: objective 198414.00000\n",
            "Presolve removed 4 rows and 2 columns\n",
            "Presolve time: 0.00s\n",
            "Presolve: All rows and columns removed\n",
            "\n",
            "Explored 0 nodes (0 simplex iterations) in 0.03 seconds (0.00 work units)\n",
            "Thread count was 1 (of 2 available processors)\n",
            "\n",
            "Solution count 2: 199600 198414 \n",
            "\n",
            "Optimal solution found (tolerance 1.00e-04)\n",
            "Best objective 1.996000000000e+05, best bound 1.996000000000e+05, gap 0.0000%\n",
            "Optimal solution found:\n",
            "Computer 1 560.0\n",
            "Computer 2 1200.0\n",
            "Total Profit: $199600.00\n"
          ]
        }
      ]
    },
    {
      "cell_type": "code",
      "source": [
        "if model.status == GRB.OPTIMAL:\n",
        "    print(\"Optimal solution Details:\")\n",
        "    print(\"Assembling\")\n",
        "    # Ensure Max labor Hours\n",
        "    for j in range(type_Labor):\n",
        "      for c in range (type_Products):\n",
        "        print(\"Labor type:\",j,\"Comupter Type \",c, x[c].x ,\"Hours\",laborHours[j,c] , laborHours[j,c] * x[c].x )"
      ],
      "metadata": {
        "colab": {
          "base_uri": "https://localhost:8080/",
          "height": 0
        },
        "id": "tEN3rWklwNP3",
        "outputId": "77fbf643-83ea-49fb-e65e-ff17664ce9bb"
      },
      "execution_count": 8,
      "outputs": [
        {
          "output_type": "stream",
          "name": "stdout",
          "text": [
            "Optimal solution Details:\n",
            "Assembling\n",
            "Labor type: 0 Comupter Type  0 560.0 Hours 5 2800.0\n",
            "Labor type: 0 Comupter Type  1 1200.0 Hours 6 7200.0\n",
            "Labor type: 1 Comupter Type  0 560.0 Hours 1 560.0\n",
            "Labor type: 1 Comupter Type  1 1200.0 Hours 2 2400.0\n"
          ]
        }
      ]
    },
    {
      "cell_type": "code",
      "source": [],
      "metadata": {
        "id": "rWiFBbJkwPSf"
      },
      "execution_count": null,
      "outputs": []
    }
  ]
}