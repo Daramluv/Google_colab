{
  "nbformat": 4,
  "nbformat_minor": 0,
  "metadata": {
    "colab": {
      "provenance": [],
      "authorship_tag": "ABX9TyOU33T4RbltZSXYKD4bijlr",
      "include_colab_link": true
    },
    "kernelspec": {
      "name": "python3",
      "display_name": "Python 3"
    },
    "language_info": {
      "name": "python"
    }
  },
  "cells": [
    {
      "cell_type": "markdown",
      "metadata": {
        "id": "view-in-github",
        "colab_type": "text"
      },
      "source": [
        "<a href=\"https://colab.research.google.com/github/Daramluv/Google_colab/blob/main/Textile_Product_Optimization.ipynb\" target=\"_parent\"><img src=\"https://colab.research.google.com/assets/colab-badge.svg\" alt=\"Open In Colab\"/></a>"
      ]
    },
    {
      "cell_type": "code",
      "execution_count": 1,
      "metadata": {
        "colab": {
          "base_uri": "https://localhost:8080/"
        },
        "id": "F8t1o-h-OSac",
        "outputId": "ff30f80a-2474-488f-ef6a-887325189c63"
      },
      "outputs": [
        {
          "output_type": "stream",
          "name": "stdout",
          "text": [
            "Collecting gurobipy\n",
            "  Downloading gurobipy-12.0.0-cp310-cp310-manylinux2014_x86_64.manylinux_2_17_x86_64.whl.metadata (15 kB)\n",
            "Downloading gurobipy-12.0.0-cp310-cp310-manylinux2014_x86_64.manylinux_2_17_x86_64.whl (14.4 MB)\n",
            "\u001b[2K   \u001b[90m━━━━━━━━━━━━━━━━━━━━━━━━━━━━━━━━━━━━━━━━\u001b[0m \u001b[32m14.4/14.4 MB\u001b[0m \u001b[31m42.1 MB/s\u001b[0m eta \u001b[36m0:00:00\u001b[0m\n",
            "\u001b[?25hInstalling collected packages: gurobipy\n",
            "Successfully installed gurobipy-12.0.0\n"
          ]
        }
      ],
      "source": [
        "%pip install gurobipy"
      ]
    },
    {
      "cell_type": "code",
      "source": [
        "from itertools import product\n",
        "from math import sqrt, factorial\n",
        "import numpy as np\n",
        "import gurobipy as gp\n",
        "from gurobipy import GRB"
      ],
      "metadata": {
        "id": "08Pf2rlYOTJ-"
      },
      "execution_count": 2,
      "outputs": []
    },
    {
      "cell_type": "code",
      "source": [
        "#####################################################\n",
        "#                    Model Formulation\n",
        "#####################################################\n",
        "\n",
        "m = gp.Model('Textile manufacturing')\n",
        "\n",
        "plist = [*range(0,5)]\n",
        "\n",
        "\n",
        "Products = ['Shirts','Shorts','Pants','Skirts','Jackets']\n",
        "RentalCost = [1500,1200,1600,1500,1600]\n",
        "LaborHours=[2,1,6,4,8]\n",
        "Cloth=[3,2.5,4,4.5,5.5]\n",
        "SellingPrice=[35,40,65,70,110]\n",
        "VariableCost=[20,10,25,30,35]\n",
        "\n",
        "\n",
        "\n",
        "\n",
        "# Build decision variables: how many units to produce\n",
        "x = m.addVars(plist, vtype=GRB.INTEGER, name='Quantity')\n",
        "\n",
        "# Build decision variables: Weather to rent or not\n",
        "y = m.addVars(plist, vtype=GRB.BINARY, name ='Rent')\n",
        "# Objective function: Maximize profit\n",
        "m.setObjective(gp.quicksum(x[i] * (SellingPrice[i] - VariableCost[i])  - y[i]* RentalCost[i] for i in plist), GRB.MAXIMIZE)\n",
        "\n",
        "# Satisfying LaborHours\n",
        "nonNegativeConstr = m.addConstrs((x[i] >=0 for i in plist), name='NonNegative' )\n",
        "\n",
        "laborConstr = m.addConstr((gp.quicksum(x[i] * LaborHours[i] for i in plist)   <= 4000),\n",
        "                                      name='labor_Constr')\n",
        "\n",
        "clothConstr = m.addConstr((gp.quicksum(x[i] * Cloth[i] for i in plist) <= 4500), name='Cloth_Constr')\n",
        "\n",
        "rentalConstraing = m.addConstrs((x[i] <= y[i] * 4500 for i in plist), name='RentalConstraint' )\n",
        "\n",
        "\n",
        "# Run optimization engine\n",
        "m.optimize()"
      ],
      "metadata": {
        "colab": {
          "base_uri": "https://localhost:8080/"
        },
        "id": "ITp4mqSxOXlQ",
        "outputId": "561727c8-3db9-42b5-aa39-f7c219eb5dad"
      },
      "execution_count": 3,
      "outputs": [
        {
          "output_type": "stream",
          "name": "stdout",
          "text": [
            "Restricted license - for non-production use only - expires 2026-11-23\n",
            "Gurobi Optimizer version 12.0.0 build v12.0.0rc1 (linux64 - \"Ubuntu 22.04.3 LTS\")\n",
            "\n",
            "CPU model: Intel(R) Xeon(R) CPU @ 2.20GHz, instruction set [SSE2|AVX|AVX2]\n",
            "Thread count: 1 physical cores, 2 logical processors, using up to 2 threads\n",
            "\n",
            "Optimize a model with 12 rows, 10 columns and 25 nonzeros\n",
            "Model fingerprint: 0xe421f4a9\n",
            "Variable types: 0 continuous, 10 integer (5 binary)\n",
            "Coefficient statistics:\n",
            "  Matrix range     [1e+00, 4e+03]\n",
            "  Objective range  [2e+01, 2e+03]\n",
            "  Bounds range     [1e+00, 1e+00]\n",
            "  RHS range        [4e+03, 4e+03]\n",
            "Found heuristic solution: objective -0.0000000\n",
            "Found heuristic solution: objective 21000.000000\n",
            "Presolve removed 5 rows and 0 columns\n",
            "Presolve time: 0.00s\n",
            "Presolved: 7 rows, 10 columns, 20 nonzeros\n",
            "Variable types: 0 continuous, 10 integer (5 binary)\n",
            "\n",
            "Root relaxation: objective 5.555632e+04, 7 iterations, 0.00 seconds (0.00 work units)\n",
            "\n",
            "    Nodes    |    Current Node    |     Objective Bounds      |     Work\n",
            " Expl Unexpl |  Obj  Depth IntInf | Incumbent    BestBd   Gap | It/Node Time\n",
            "\n",
            "     0     0 55556.3218    0    4 21000.0000 55556.3218   165%     -    0s\n",
            "H    0     0                    54605.000000 55556.3218  1.74%     -    0s\n",
            "     0     0 54610.5263    0    2 54605.0000 54610.5263  0.01%     -    0s\n",
            "\n",
            "Cutting planes:\n",
            "  Gomory: 1\n",
            "\n",
            "Explored 1 nodes (10 simplex iterations) in 0.13 seconds (0.00 work units)\n",
            "Thread count was 2 (of 2 available processors)\n",
            "\n",
            "Solution count 3: 54605 21000 -0 \n",
            "\n",
            "Optimal solution found (tolerance 1.00e-04)\n",
            "Best objective 5.460500000000e+04, best bound 5.461000000000e+04, gap 0.0092%\n"
          ]
        }
      ]
    },
    {
      "cell_type": "code",
      "source": [
        "#####################################################\n",
        "#         Number of employees on each shift\n",
        "#####################################################\n",
        "\n",
        "print(f\"\\n\\n___Optimal production schedule________\")\n",
        "for i in plist:\n",
        "    if x[i].x >0:\n",
        "      print(\"The number of %1s to be produced is %2d\" % (Products[i], x[i].x))\n"
      ],
      "metadata": {
        "colab": {
          "base_uri": "https://localhost:8080/"
        },
        "id": "98_FdGKhOb4y",
        "outputId": "b834c5e4-1716-4ce5-f5e0-cb3aeccea338"
      },
      "execution_count": 4,
      "outputs": [
        {
          "output_type": "stream",
          "name": "stdout",
          "text": [
            "\n",
            "\n",
            "___Optimal production schedule________\n",
            "The number of Shorts to be produced is 966\n",
            "The number of Jackets to be produced is 379\n"
          ]
        }
      ]
    },
    {
      "cell_type": "markdown",
      "source": [
        "##  Conclusion\n",
        "\n",
        "In this example, we addressed the textile manufacturing problem. We determined the optimal number of product to:\n",
        "* Maximize the profit taking into consideration the rental cost of the equipment\n",
        "\n"
      ],
      "metadata": {
        "id": "OENk-8avOhuq"
      }
    }
  ]
}