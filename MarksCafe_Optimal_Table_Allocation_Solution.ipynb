{
  "nbformat": 4,
  "nbformat_minor": 0,
  "metadata": {
    "colab": {
      "provenance": [],
      "authorship_tag": "ABX9TyM7EssfwxybqwowjMSHYg4H",
      "include_colab_link": true
    },
    "kernelspec": {
      "name": "python3",
      "display_name": "Python 3"
    },
    "language_info": {
      "name": "python"
    }
  },
  "cells": [
    {
      "cell_type": "markdown",
      "metadata": {
        "id": "view-in-github",
        "colab_type": "text"
      },
      "source": [
        "<a href=\"https://colab.research.google.com/github/Daramluv/Google_colab/blob/main/MarksCafe_Optimal_Table_Allocation_Solution.ipynb\" target=\"_parent\"><img src=\"https://colab.research.google.com/assets/colab-badge.svg\" alt=\"Open In Colab\"/></a>"
      ]
    },
    {
      "cell_type": "code",
      "execution_count": 1,
      "metadata": {
        "colab": {
          "base_uri": "https://localhost:8080/",
          "height": 0
        },
        "id": "a7Q8x0vSdpfG",
        "outputId": "08b16e50-70f0-43d2-a9ea-2b8b6011f5c2"
      },
      "outputs": [
        {
          "output_type": "stream",
          "name": "stdout",
          "text": [
            "Collecting gurobipy\n",
            "  Downloading gurobipy-12.0.0-cp310-cp310-manylinux2014_x86_64.manylinux_2_17_x86_64.whl.metadata (15 kB)\n",
            "Downloading gurobipy-12.0.0-cp310-cp310-manylinux2014_x86_64.manylinux_2_17_x86_64.whl (14.4 MB)\n",
            "\u001b[2K   \u001b[90m━━━━━━━━━━━━━━━━━━━━━━━━━━━━━━━━━━━━━━━━\u001b[0m \u001b[32m14.4/14.4 MB\u001b[0m \u001b[31m21.0 MB/s\u001b[0m eta \u001b[36m0:00:00\u001b[0m\n",
            "\u001b[?25hInstalling collected packages: gurobipy\n",
            "Successfully installed gurobipy-12.0.0\n"
          ]
        }
      ],
      "source": [
        "pip install gurobipy"
      ]
    },
    {
      "cell_type": "code",
      "source": [
        "import gurobipy as gp\n",
        "from gurobipy import GRB\n",
        "import numpy as np\n"
      ],
      "metadata": {
        "id": "3gG3zYSTdyva"
      },
      "execution_count": 3,
      "outputs": []
    },
    {
      "cell_type": "code",
      "source": [
        "\n",
        "# Create a new Gurobi model\n",
        "model = gp.Model(\"MarksCafe\")\n",
        "\n",
        "# Data\n",
        "type_Tables = 2\n",
        "type_Labor=2\n",
        "laborCost =np.array([18,32])\n",
        "laborMinutes=np.array([[10,15],[20,35]])\n",
        "RevenuePerHour=np.array([100,150])\n",
        "MaxNoTables=np.array([6,12])\n",
        "maxLaborHours=np.array([480,300])\n",
        "# Create the decision variables\n",
        "x = {}"
      ],
      "metadata": {
        "colab": {
          "base_uri": "https://localhost:8080/",
          "height": 0
        },
        "id": "kKMfCVYzdqca",
        "outputId": "68a8bf0d-a781-4bac-c4e7-3586a69de36a"
      },
      "execution_count": 4,
      "outputs": [
        {
          "output_type": "stream",
          "name": "stdout",
          "text": [
            "Restricted license - for non-production use only - expires 2026-11-23\n"
          ]
        }
      ]
    },
    {
      "cell_type": "code",
      "source": [
        "for j in range(type_Tables):\n",
        "    x[j] = model.addVar(vtype=GRB.INTEGER, name=f\"x_{j}\")"
      ],
      "metadata": {
        "id": "qCMdrwXLdxGT"
      },
      "execution_count": 5,
      "outputs": []
    },
    {
      "cell_type": "code",
      "source": [
        "# Set objective: maximize profit\n",
        "model.setObjective(\n",
        "    gp.quicksum((RevenuePerHour[j] - laborMinutes[0,j]/60 * laborCost[0]\n",
        "                 - laborMinutes[1,j]/60 * laborCost[1]) * x[j]\n",
        "                for j in range(type_Tables)),\n",
        "    GRB.MAXIMIZE,\n",
        ")"
      ],
      "metadata": {
        "id": "RINVrEN-d2OZ"
      },
      "execution_count": 6,
      "outputs": []
    },
    {
      "cell_type": "code",
      "source": [
        "# Constraints\n",
        "\n",
        "\n",
        "# Ensure Max number of tables\n",
        "for c in range(type_Tables):\n",
        "    model.addConstr(x[c] <= MaxNoTables[c], f\"MaxTables{c}\")\n",
        "\n",
        "# Ensure Max labor minutes\n",
        "for j in range(type_Labor):\n",
        "    model.addConstr(gp.quicksum(laborMinutes[j,c] * x[j] for c in range(type_Tables))\n",
        "     <= maxLaborHours[j] ,f'Max labor hours')"
      ],
      "metadata": {
        "id": "8syBTAnSd4Ln"
      },
      "execution_count": 7,
      "outputs": []
    },
    {
      "cell_type": "code",
      "source": [
        "\n",
        "# Optimize the model\n",
        "model.optimize()\n",
        "\n",
        "# Print the results\n",
        "if model.status == GRB.OPTIMAL:\n",
        "    print(\"Optimal solution found:\")\n",
        "    for j in range(type_Tables):\n",
        "        if x[j].x > 0:\n",
        "            print(f\"Tables {j + 1}\",x[j].x )\n",
        "\n",
        "    print(f\"Total Profit: ${model.objVal:.2f}\")\n",
        "else:\n",
        "    print(\"No solution found.\")\n"
      ],
      "metadata": {
        "colab": {
          "base_uri": "https://localhost:8080/",
          "height": 0
        },
        "id": "WKKRF6Ekd61s",
        "outputId": "87251626-6e4c-4d76-e904-527426142ef8"
      },
      "execution_count": 8,
      "outputs": [
        {
          "output_type": "stream",
          "name": "stdout",
          "text": [
            "Gurobi Optimizer version 12.0.0 build v12.0.0rc1 (linux64 - \"Ubuntu 22.04.3 LTS\")\n",
            "\n",
            "CPU model: Intel(R) Xeon(R) CPU @ 2.20GHz, instruction set [SSE2|AVX|AVX2]\n",
            "Thread count: 1 physical cores, 2 logical processors, using up to 2 threads\n",
            "\n",
            "Optimize a model with 4 rows, 2 columns and 4 nonzeros\n",
            "Model fingerprint: 0x5ccb9bdb\n",
            "Variable types: 0 continuous, 2 integer (0 binary)\n",
            "Coefficient statistics:\n",
            "  Matrix range     [1e+00, 6e+01]\n",
            "  Objective range  [9e+01, 1e+02]\n",
            "  Bounds range     [0e+00, 0e+00]\n",
            "  RHS range        [6e+00, 5e+02]\n",
            "Found heuristic solution: objective 1152.1666667\n",
            "Presolve removed 4 rows and 2 columns\n",
            "Presolve time: 0.00s\n",
            "Presolve: All rows and columns removed\n",
            "\n",
            "Explored 0 nodes (0 simplex iterations) in 0.03 seconds (0.00 work units)\n",
            "Thread count was 1 (of 2 available processors)\n",
            "\n",
            "Solution count 1: 1152.17 \n",
            "\n",
            "Optimal solution found (tolerance 1.00e-04)\n",
            "Best objective 1.152166666667e+03, best bound 1.152166666667e+03, gap 0.0000%\n",
            "Optimal solution found:\n",
            "Tables 1 6.0\n",
            "Tables 2 5.0\n",
            "Total Profit: $1152.17\n"
          ]
        }
      ]
    },
    {
      "cell_type": "code",
      "source": [],
      "metadata": {
        "id": "VngmB6vnd8PZ"
      },
      "execution_count": null,
      "outputs": []
    }
  ]
}