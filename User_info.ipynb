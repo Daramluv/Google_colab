{
  "nbformat": 4,
  "nbformat_minor": 0,
  "metadata": {
    "colab": {
      "provenance": [],
      "authorship_tag": "ABX9TyMdELU3zz1vuN0IJ5cfX1h4",
      "include_colab_link": true
    },
    "kernelspec": {
      "name": "python3",
      "display_name": "Python 3"
    },
    "language_info": {
      "name": "python"
    }
  },
  "cells": [
    {
      "cell_type": "markdown",
      "metadata": {
        "id": "view-in-github",
        "colab_type": "text"
      },
      "source": [
        "<a href=\"https://colab.research.google.com/github/Daramluv/Google_colab/blob/main/User_info.ipynb\" target=\"_parent\"><img src=\"https://colab.research.google.com/assets/colab-badge.svg\" alt=\"Open In Colab\"/></a>"
      ]
    },
    {
      "cell_type": "markdown",
      "source": [
        "#**User info**"
      ],
      "metadata": {
        "id": "Y43UBiBCIouF"
      }
    },
    {
      "cell_type": "code",
      "execution_count": 1,
      "metadata": {
        "id": "J3tlP79GInlq"
      },
      "outputs": [],
      "source": [
        "class User:\n",
        "  def __init__(self, user_id, username):\n",
        "    self.id = user_id\n",
        "    self.username = username\n",
        "    self.followers = 0\n",
        "    self.following = 0\n",
        "  def follow(self, user):\n",
        "    user.followers +=1\n",
        "    self.following += 1"
      ]
    },
    {
      "cell_type": "markdown",
      "source": [
        "###input user info"
      ],
      "metadata": {
        "id": "rbwb8FTbJbIn"
      }
    },
    {
      "cell_type": "code",
      "source": [
        "user_1 = User(\"001\", \"Angela\")\n",
        "user_2 = User(\"002\", \"David\")"
      ],
      "metadata": {
        "id": "rWPj4TbYJZDs"
      },
      "execution_count": 2,
      "outputs": []
    },
    {
      "cell_type": "markdown",
      "source": [
        "###Following and Followers"
      ],
      "metadata": {
        "id": "A8EEwgNtJvEw"
      }
    },
    {
      "cell_type": "code",
      "source": [
        "user_1.follow(user_2)"
      ],
      "metadata": {
        "id": "gApMjMScJyPK"
      },
      "execution_count": 3,
      "outputs": []
    },
    {
      "cell_type": "markdown",
      "source": [
        "###Print info\n"
      ],
      "metadata": {
        "id": "vTv_kJv4J6sO"
      }
    },
    {
      "cell_type": "code",
      "source": [
        "print(user_1.username, user_1.id)\n",
        "print(user_2.username, user_2.id)\n",
        "print(f\"Angela's follower is {user_1.followers}\")\n",
        "print(f\"Angela's following is {user_1.following}\")\n",
        "print(f\"David's follower is {user_2.followers}\")\n",
        "print(f\"David's following is {user_2.following}\")"
      ],
      "metadata": {
        "colab": {
          "base_uri": "https://localhost:8080/"
        },
        "id": "RWWroxNRJ90S",
        "outputId": "21da6c76-273d-4da6-bacd-a6898a539e74"
      },
      "execution_count": 9,
      "outputs": [
        {
          "output_type": "stream",
          "name": "stdout",
          "text": [
            "Angela 001\n",
            "David 002\n",
            "Angela's follower is 0\n",
            "Angela's following is 1\n",
            "David's follower is 1\n",
            "David's following is 0\n"
          ]
        }
      ]
    }
  ]
}