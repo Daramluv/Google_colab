{
  "nbformat": 4,
  "nbformat_minor": 0,
  "metadata": {
    "colab": {
      "provenance": [],
      "authorship_tag": "ABX9TyMPplQK83g6CHGXhvZo/Svz",
      "include_colab_link": true
    },
    "kernelspec": {
      "name": "python3",
      "display_name": "Python 3"
    },
    "language_info": {
      "name": "python"
    }
  },
  "cells": [
    {
      "cell_type": "markdown",
      "metadata": {
        "id": "view-in-github",
        "colab_type": "text"
      },
      "source": [
        "<a href=\"https://colab.research.google.com/github/Daramluv/Google_colab/blob/main/Employee_Scheduling_V1.ipynb\" target=\"_parent\"><img src=\"https://colab.research.google.com/assets/colab-badge.svg\" alt=\"Open In Colab\"/></a>"
      ]
    },
    {
      "cell_type": "code",
      "execution_count": 1,
      "metadata": {
        "colab": {
          "base_uri": "https://localhost:8080/"
        },
        "id": "QTgVKcPWz22n",
        "outputId": "12dc1212-7d2c-4229-d4da-50d36096a631"
      },
      "outputs": [
        {
          "output_type": "stream",
          "name": "stdout",
          "text": [
            "Collecting gurobipy\n",
            "  Downloading gurobipy-12.0.0-cp310-cp310-manylinux2014_x86_64.manylinux_2_17_x86_64.whl.metadata (15 kB)\n",
            "Downloading gurobipy-12.0.0-cp310-cp310-manylinux2014_x86_64.manylinux_2_17_x86_64.whl (14.4 MB)\n",
            "\u001b[2K   \u001b[90m━━━━━━━━━━━━━━━━━━━━━━━━━━━━━━━━━━━━━━━━\u001b[0m \u001b[32m14.4/14.4 MB\u001b[0m \u001b[31m33.1 MB/s\u001b[0m eta \u001b[36m0:00:00\u001b[0m\n",
            "\u001b[?25hInstalling collected packages: gurobipy\n",
            "Successfully installed gurobipy-12.0.0\n"
          ]
        }
      ],
      "source": [
        "%pip install gurobipy"
      ]
    },
    {
      "cell_type": "code",
      "source": [
        "from itertools import product\n",
        "from math import sqrt, factorial\n",
        "import numpy as np\n",
        "import gurobipy as gp\n",
        "from gurobipy import GRB"
      ],
      "metadata": {
        "id": "jSNzMvcDz3yG"
      },
      "execution_count": 2,
      "outputs": []
    },
    {
      "cell_type": "code",
      "source": [
        "# compute number of cominations\n",
        "def nCr(n, r):\n",
        "    return int(factorial(n) / (factorial(r) * factorial(n - r)))\n",
        "\n",
        "# compute availability table\n",
        "# w is the length of the shift, d is number of days off\n",
        "def schedule(w,d):\n",
        "\n",
        "    # number of shifts\n",
        "    v = nCr(w,d)\n",
        "    s = [[1 for x in range(w)] for x in range(v)]\n",
        "\n",
        "    i=0\n",
        "    for j in range(v):\n",
        "        for k in range(j+1,w):\n",
        "            s[i][j] = 0\n",
        "            s[i][k] = 0\n",
        "            i=i+1\n",
        "    return s"
      ],
      "metadata": {
        "id": "2n05MaYUz5-7"
      },
      "execution_count": 3,
      "outputs": []
    },
    {
      "cell_type": "code",
      "source": [
        "# generate the schedule availability table\n",
        "a = schedule(7,2)\n",
        "\n",
        "# print the table to visualize\n",
        "print(np.matrix(a))"
      ],
      "metadata": {
        "colab": {
          "base_uri": "https://localhost:8080/"
        },
        "id": "d6x4rGgEz8YR",
        "outputId": "9a356427-090e-4c60-acdb-3b67deeedac4"
      },
      "execution_count": 4,
      "outputs": [
        {
          "output_type": "stream",
          "name": "stdout",
          "text": [
            "[[0 0 1 1 1 1 1]\n",
            " [0 1 0 1 1 1 1]\n",
            " [0 1 1 0 1 1 1]\n",
            " [0 1 1 1 0 1 1]\n",
            " [0 1 1 1 1 0 1]\n",
            " [0 1 1 1 1 1 0]\n",
            " [1 0 0 1 1 1 1]\n",
            " [1 0 1 0 1 1 1]\n",
            " [1 0 1 1 0 1 1]\n",
            " [1 0 1 1 1 0 1]\n",
            " [1 0 1 1 1 1 0]\n",
            " [1 1 0 0 1 1 1]\n",
            " [1 1 0 1 0 1 1]\n",
            " [1 1 0 1 1 0 1]\n",
            " [1 1 0 1 1 1 0]\n",
            " [1 1 1 0 0 1 1]\n",
            " [1 1 1 0 1 0 1]\n",
            " [1 1 1 0 1 1 0]\n",
            " [1 1 1 1 0 0 1]\n",
            " [1 1 1 1 0 1 0]\n",
            " [1 1 1 1 1 0 0]]\n"
          ]
        }
      ]
    },
    {
      "cell_type": "code",
      "source": [
        "#####################################################\n",
        "#                    Model Formulation\n",
        "#####################################################\n",
        "\n",
        "m = gp.Model('employee scheduling')\n",
        "\n",
        "shift = [*range(0,21)]\n",
        "day = [*range(0,7)]\n",
        "\n",
        "p = [200,200,200,200,200,300,300]\n",
        "\n",
        "d=[177,134,158,191,149,165,116]\n",
        "\n",
        "# Cartesian product of shifts and days\n",
        "sd = []\n",
        "\n",
        "for i in shift:\n",
        "    for j in day:\n",
        "        tp = i,j\n",
        "        sd.append(tp)\n",
        "\n",
        "#print(np.matrix(sd))\n",
        "\n",
        "# Build decision variables: how many employees to work on a shift\n",
        "x = m.addVars(shift, vtype=GRB.INTEGER, name='Assign')\n",
        "\n",
        "# Objective function: Minimize total payroll cost\n",
        "m.setObjective(gp.quicksum(p[j]*a[i][j]*x[i] for i,j in sd), GRB.MINIMIZE)\n",
        "\n",
        "# Satisfying staffing requirements\n",
        "staffingConstrs = m.addConstrs((gp.quicksum(x[i]*a[i][j]  for i in shift) >= d[j] for j in day),\n",
        "                                      name='staffingConstrs')\n",
        "\n",
        "# Run optimization engine\n",
        "m.optimize()"
      ],
      "metadata": {
        "colab": {
          "base_uri": "https://localhost:8080/"
        },
        "id": "bImwmWzfz9tz",
        "outputId": "d47088ca-b9a8-4d4b-fad7-ad9ff29618e5"
      },
      "execution_count": 5,
      "outputs": [
        {
          "output_type": "stream",
          "name": "stdout",
          "text": [
            "Restricted license - for non-production use only - expires 2026-11-23\n",
            "Gurobi Optimizer version 12.0.0 build v12.0.0rc1 (linux64 - \"Ubuntu 22.04.3 LTS\")\n",
            "\n",
            "CPU model: Intel(R) Xeon(R) CPU @ 2.20GHz, instruction set [SSE2|AVX|AVX2]\n",
            "Thread count: 1 physical cores, 2 logical processors, using up to 2 threads\n",
            "\n",
            "Optimize a model with 7 rows, 21 columns and 105 nonzeros\n",
            "Model fingerprint: 0x8978f0cd\n",
            "Variable types: 0 continuous, 21 integer (0 binary)\n",
            "Coefficient statistics:\n",
            "  Matrix range     [1e+00, 1e+00]\n",
            "  Objective range  [1e+03, 1e+03]\n",
            "  Bounds range     [0e+00, 0e+00]\n",
            "  RHS range        [1e+02, 2e+02]\n",
            "Found heuristic solution: objective 458100.00000\n",
            "Presolve time: 0.00s\n",
            "Presolved: 7 rows, 21 columns, 105 nonzeros\n",
            "Variable types: 0 continuous, 21 integer (0 binary)\n",
            "\n",
            "Root relaxation: objective 2.461000e+05, 9 iterations, 0.00 seconds (0.00 work units)\n",
            "\n",
            "    Nodes    |    Current Node    |     Objective Bounds      |     Work\n",
            " Expl Unexpl |  Obj  Depth IntInf | Incumbent    BestBd   Gap | It/Node Time\n",
            "\n",
            "     0     0 246100.000    0    6 458100.000 246100.000  46.3%     -    0s\n",
            "H    0     0                    249800.00000 246100.000  1.48%     -    0s\n",
            "H    0     0                    249600.00000 246100.000  1.40%     -    0s\n",
            "H    0     0                    247100.00000 246100.000  0.40%     -    0s\n",
            "*    0     0               0    246100.00000 246100.000  0.00%     -    0s\n",
            "\n",
            "Cutting planes:\n",
            "  Gomory: 1\n",
            "\n",
            "Explored 1 nodes (10 simplex iterations) in 0.05 seconds (0.00 work units)\n",
            "Thread count was 2 (of 2 available processors)\n",
            "\n",
            "Solution count 5: 246100 247100 249600 ... 458100\n",
            "\n",
            "Optimal solution found (tolerance 1.00e-04)\n",
            "Best objective 2.461000000000e+05, best bound 2.461000000000e+05, gap 0.0000%\n"
          ]
        }
      ]
    },
    {
      "cell_type": "code",
      "source": [
        "#####################################################\n",
        "#         Number of employees on each shift\n",
        "#####################################################\n",
        "\n",
        "print(f\"\\n\\n___Optimal employees on each shift________\")\n",
        "total_employee = 0\n",
        "for t in shift:\n",
        "    print(\"The number of employee on shift %2d is %3d\" % (t, x[t].x))\n",
        "    #print(f\"The number of employee on shift {t} is {x[t].x}\")\n",
        "    total_employee += x[t].x\n",
        "\n",
        "print(\"The total number of emploee is %3d \" % (total_employee))"
      ],
      "metadata": {
        "colab": {
          "base_uri": "https://localhost:8080/"
        },
        "id": "zVCDuoz80Cfe",
        "outputId": "d4da61c7-bbb4-4d5b-8287-17f7e93e6958"
      },
      "execution_count": 6,
      "outputs": [
        {
          "output_type": "stream",
          "name": "stdout",
          "text": [
            "\n",
            "\n",
            "___Optimal employees on each shift________\n",
            "The number of employee on shift  0 is   0\n",
            "The number of employee on shift  1 is   0\n",
            "The number of employee on shift  2 is  10\n",
            "The number of employee on shift  3 is   0\n",
            "The number of employee on shift  4 is   0\n",
            "The number of employee on shift  5 is  31\n",
            "The number of employee on shift  6 is  37\n",
            "The number of employee on shift  7 is   0\n",
            "The number of employee on shift  8 is  46\n",
            "The number of employee on shift  9 is   0\n",
            "The number of employee on shift 10 is   1\n",
            "The number of employee on shift 11 is   0\n",
            "The number of employee on shift 12 is  23\n",
            "The number of employee on shift 13 is   0\n",
            "The number of employee on shift 14 is   0\n",
            "The number of employee on shift 15 is   0\n",
            "The number of employee on shift 16 is   0\n",
            "The number of employee on shift 17 is  17\n",
            "The number of employee on shift 18 is   0\n",
            "The number of employee on shift 19 is   0\n",
            "The number of employee on shift 20 is  53\n",
            "The total number of emploee is 218 \n"
          ]
        }
      ]
    },
    {
      "cell_type": "code",
      "source": [
        "#####################################################\n",
        "#     Actual coverage on each day\n",
        "#####################################################\n",
        "\n",
        "print(f\"\\n\\n____Actual coverage on each day_____\")\n",
        "for t in day:\n",
        "    actual_employee = 0\n",
        "    for s in shift:\n",
        "      actual_employee += (x[s].x)*a[s][t]\n",
        "    print(\"The number of employee on shift %1d is %3d where demand is %3d\" % (t, actual_employee, d[t]) )"
      ],
      "metadata": {
        "colab": {
          "base_uri": "https://localhost:8080/"
        },
        "id": "b36ujdON0Exs",
        "outputId": "999ff07b-b1b3-4745-c641-2c8ab851d626"
      },
      "execution_count": 7,
      "outputs": [
        {
          "output_type": "stream",
          "name": "stdout",
          "text": [
            "\n",
            "\n",
            "____Actual coverage on each day_____\n",
            "The number of employee on shift 0 is 177 where demand is 177\n",
            "The number of employee on shift 1 is 134 where demand is 134\n",
            "The number of employee on shift 2 is 158 where demand is 158\n",
            "The number of employee on shift 3 is 191 where demand is 191\n",
            "The number of employee on shift 4 is 149 where demand is 149\n",
            "The number of employee on shift 5 is 165 where demand is 165\n",
            "The number of employee on shift 6 is 116 where demand is 116\n"
          ]
        }
      ]
    },
    {
      "cell_type": "code",
      "source": [
        "# assuming employees must take two consequtive days off\n",
        "# compute availability table\n",
        "# w is the length of the shift, d is number of days off\n",
        "def schedule(w,d):\n",
        "\n",
        "    s = [[1 for x in range(w)] for x in range(w)]\n",
        "    i=0\n",
        "    for j in range(w):\n",
        "        s[i][j] = 0\n",
        "        s[i][(j+1)%w] = 0\n",
        "        i=i+1\n",
        "    return s"
      ],
      "metadata": {
        "id": "8NSf1aZc0GSa"
      },
      "execution_count": 8,
      "outputs": []
    },
    {
      "cell_type": "code",
      "source": [
        "# generate the schedule availability table\n",
        "a = schedule(7,2)\n",
        "\n",
        "# print the table to visualize\n",
        "print(np.matrix(a))"
      ],
      "metadata": {
        "colab": {
          "base_uri": "https://localhost:8080/"
        },
        "id": "QgOI3C5J0IEK",
        "outputId": "64af0219-ac9e-4e2c-ed2a-10d0964b4950"
      },
      "execution_count": 9,
      "outputs": [
        {
          "output_type": "stream",
          "name": "stdout",
          "text": [
            "[[0 0 1 1 1 1 1]\n",
            " [1 0 0 1 1 1 1]\n",
            " [1 1 0 0 1 1 1]\n",
            " [1 1 1 0 0 1 1]\n",
            " [1 1 1 1 0 0 1]\n",
            " [1 1 1 1 1 0 0]\n",
            " [0 1 1 1 1 1 0]]\n"
          ]
        }
      ]
    },
    {
      "cell_type": "code",
      "source": [
        "#####################################################\n",
        "#                    Model Formulation\n",
        "#####################################################\n",
        "\n",
        "m = gp.Model('employee scheduling')\n",
        "\n",
        "shift = [*range(0,7)]\n",
        "day = [*range(0,7)]\n",
        "\n",
        "p = [200,200,200,200,200,300,300]\n",
        "\n",
        "d=[177,134,158,191,149,165,116]\n",
        "\n",
        "# Cartesian product of shifts and days\n",
        "sd = []\n",
        "\n",
        "for i in shift:\n",
        "    for j in day:\n",
        "        tp = i,j\n",
        "        sd.append(tp)\n",
        "\n",
        "#print(np.matrix(sd))\n",
        "\n",
        "# Build decision variables: how many employees to work on a shift\n",
        "x = m.addVars(shift, vtype=GRB.INTEGER, name='Assign')\n",
        "\n",
        "# Objective function: Minimize total payroll cost\n",
        "m.setObjective(gp.quicksum(p[j]*a[i][j]*x[i] for i,j in sd), GRB.MINIMIZE)\n",
        "\n",
        "# Satisfying staffing requirements\n",
        "staffingConstrs = m.addConstrs((gp.quicksum(x[i]*a[i][j]  for i in shift) >= d[j] for j in day),\n",
        "                                      name='staffingConstrs')\n",
        "\n",
        "# Run optimization engine\n",
        "m.optimize()"
      ],
      "metadata": {
        "colab": {
          "base_uri": "https://localhost:8080/"
        },
        "id": "5sFn6Ako0JZZ",
        "outputId": "eb5d3449-23ce-480c-d9f8-64c5466afb67"
      },
      "execution_count": 10,
      "outputs": [
        {
          "output_type": "stream",
          "name": "stdout",
          "text": [
            "Gurobi Optimizer version 12.0.0 build v12.0.0rc1 (linux64 - \"Ubuntu 22.04.3 LTS\")\n",
            "\n",
            "CPU model: Intel(R) Xeon(R) CPU @ 2.20GHz, instruction set [SSE2|AVX|AVX2]\n",
            "Thread count: 1 physical cores, 2 logical processors, using up to 2 threads\n",
            "\n",
            "Optimize a model with 7 rows, 7 columns and 35 nonzeros\n",
            "Model fingerprint: 0x705c5c9a\n",
            "Variable types: 0 continuous, 7 integer (0 binary)\n",
            "Coefficient statistics:\n",
            "  Matrix range     [1e+00, 1e+00]\n",
            "  Objective range  [1e+03, 1e+03]\n",
            "  Bounds range     [0e+00, 0e+00]\n",
            "  RHS range        [1e+02, 2e+02]\n",
            "Found heuristic solution: objective 370100.00000\n",
            "Presolve time: 0.00s\n",
            "Presolved: 7 rows, 7 columns, 35 nonzeros\n",
            "Variable types: 0 continuous, 7 integer (0 binary)\n",
            "\n",
            "Root relaxation: objective 2.584333e+05, 5 iterations, 0.00 seconds (0.00 work units)\n",
            "\n",
            "    Nodes    |    Current Node    |     Objective Bounds      |     Work\n",
            " Expl Unexpl |  Obj  Depth IntInf | Incumbent    BestBd   Gap | It/Node Time\n",
            "\n",
            "     0     0 258433.333    0    4 370100.000 258433.333  30.2%     -    0s\n",
            "H    0     0                    259300.00000 258433.333  0.33%     -    0s\n",
            "H    0     0                    259100.00000 258433.333  0.26%     -    0s\n",
            "     0     0 258600.000    0    3 259100.000 258600.000  0.19%     -    0s\n",
            "\n",
            "Explored 1 nodes (8 simplex iterations) in 0.04 seconds (0.00 work units)\n",
            "Thread count was 2 (of 2 available processors)\n",
            "\n",
            "Solution count 3: 259100 259300 370100 \n",
            "\n",
            "Optimal solution found (tolerance 1.00e-04)\n",
            "Best objective 2.591000000000e+05, best bound 2.591000000000e+05, gap 0.0000%\n"
          ]
        }
      ]
    },
    {
      "cell_type": "code",
      "source": [
        "#####################################################\n",
        "#         Number of employees on each shift\n",
        "#####################################################\n",
        "\n",
        "print(f\"\\n\\n___Optimal employees on each shift________\")\n",
        "total_employee = 0\n",
        "for t in shift:\n",
        "    print(\"The number of employee on shift %2d is %3d\" % (t, x[t].x))\n",
        "    #print(f\"The number of employee on shift {t} is {x[t].x}\")\n",
        "    total_employee += x[t].x\n",
        "\n",
        "print(\"The total number of emploee is %3d \" % (total_employee))"
      ],
      "metadata": {
        "colab": {
          "base_uri": "https://localhost:8080/"
        },
        "id": "LHRczpvw0LPH",
        "outputId": "5c7b7c86-0c24-4e1c-8db9-12c70c5e15f3"
      },
      "execution_count": 11,
      "outputs": [
        {
          "output_type": "stream",
          "name": "stdout",
          "text": [
            "\n",
            "\n",
            "___Optimal employees on each shift________\n",
            "The number of employee on shift  0 is   4\n",
            "The number of employee on shift  1 is  73\n",
            "The number of employee on shift  2 is   0\n",
            "The number of employee on shift  3 is  39\n",
            "The number of employee on shift  4 is   0\n",
            "The number of employee on shift  5 is  66\n",
            "The number of employee on shift  6 is  49\n",
            "The total number of emploee is 231 \n"
          ]
        }
      ]
    },
    {
      "cell_type": "code",
      "source": [
        "#####################################################\n",
        "#     Actual coverage on each day\n",
        "#####################################################\n",
        "\n",
        "print(f\"\\n\\n____Actual coverage on each day_____\")\n",
        "for t in day:\n",
        "    actual_employee = 0\n",
        "    for s in shift:\n",
        "      actual_employee += (x[s].x)*a[s][t]\n",
        "    print(\"The number of employee on shift %1d is %3d where demand is %3d\" % (t, actual_employee, d[t]) )"
      ],
      "metadata": {
        "colab": {
          "base_uri": "https://localhost:8080/"
        },
        "id": "nlUuJXk20NBu",
        "outputId": "f590e650-2ee7-4b90-c13e-a0c5c5400a93"
      },
      "execution_count": 12,
      "outputs": [
        {
          "output_type": "stream",
          "name": "stdout",
          "text": [
            "\n",
            "\n",
            "____Actual coverage on each day_____\n",
            "The number of employee on shift 0 is 178 where demand is 177\n",
            "The number of employee on shift 1 is 154 where demand is 134\n",
            "The number of employee on shift 2 is 158 where demand is 158\n",
            "The number of employee on shift 3 is 192 where demand is 191\n",
            "The number of employee on shift 4 is 192 where demand is 149\n",
            "The number of employee on shift 5 is 165 where demand is 165\n",
            "The number of employee on shift 6 is 116 where demand is 116\n"
          ]
        }
      ]
    },
    {
      "cell_type": "markdown",
      "source": [
        "---\n",
        "##  Conclusion\n",
        "\n",
        "In this example, we addressed the employee scheduling problem. We determined the optimal number of employee to:\n",
        "* Satisfy demand for each day,\n",
        "* Minimize the total number of employees, and\n",
        "* Find number of employees to place in each shift.\n",
        "\n",
        "We also consider variations of the model where employees must take two conseutive days off.\n",
        "\n",
        "Our employee scheduling model can be used by many organizations to help make informed decisions about which shifts and how many employees to have in order to satisfy daily demand while minimizing the number of employees on the payroll."
      ],
      "metadata": {
        "id": "sDhxRd7x0USS"
      }
    },
    {
      "cell_type": "code",
      "source": [],
      "metadata": {
        "id": "1uObUChV0O5w"
      },
      "execution_count": null,
      "outputs": []
    }
  ]
}