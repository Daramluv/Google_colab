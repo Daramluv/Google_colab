{
  "nbformat": 4,
  "nbformat_minor": 0,
  "metadata": {
    "colab": {
      "provenance": [],
      "authorship_tag": "ABX9TyP6DEeqtJfaiaODZv6USl9N",
      "include_colab_link": true
    },
    "kernelspec": {
      "name": "python3",
      "display_name": "Python 3"
    },
    "language_info": {
      "name": "python"
    }
  },
  "cells": [
    {
      "cell_type": "markdown",
      "metadata": {
        "id": "view-in-github",
        "colab_type": "text"
      },
      "source": [
        "<a href=\"https://colab.research.google.com/github/Daramluv/Google_colab/blob/main/CustomerList.ipynb\" target=\"_parent\"><img src=\"https://colab.research.google.com/assets/colab-badge.svg\" alt=\"Open In Colab\"/></a>"
      ]
    },
    {
      "cell_type": "markdown",
      "source": [
        "#**Customer List**"
      ],
      "metadata": {
        "id": "aeQbNVMQCWt1"
      }
    },
    {
      "cell_type": "code",
      "execution_count": 4,
      "metadata": {
        "id": "zweswR4zCKdM"
      },
      "outputs": [],
      "source": [
        "class JSS:\n",
        "  def __init__(self):\n",
        "    self.name = input(\"Name: \")\n",
        "    self.age = input(\"age: \")\n",
        "  def show(self):\n",
        "    print(f\"My name is {self.name} and my age is {self.age}\")"
      ]
    },
    {
      "cell_type": "code",
      "source": [
        "a = JSS()"
      ],
      "metadata": {
        "colab": {
          "base_uri": "https://localhost:8080/"
        },
        "id": "Vdqpvm6YDq-o",
        "outputId": "2494a113-73b2-4f3f-9951-1d6f5ed6f8a0"
      },
      "execution_count": 5,
      "outputs": [
        {
          "name": "stdout",
          "output_type": "stream",
          "text": [
            "Name: Henry\n",
            "age: 28\n"
          ]
        }
      ]
    },
    {
      "cell_type": "code",
      "source": [
        "a.show()"
      ],
      "metadata": {
        "colab": {
          "base_uri": "https://localhost:8080/"
        },
        "id": "TzA-EmQvEO4m",
        "outputId": "4fa40546-5785-4dee-c304-b7fbe46278c0"
      },
      "execution_count": 6,
      "outputs": [
        {
          "output_type": "stream",
          "name": "stdout",
          "text": [
            "My name is Henry and my age is 28\n"
          ]
        }
      ]
    },
    {
      "cell_type": "markdown",
      "source": [
        "###add info\n"
      ],
      "metadata": {
        "id": "EmhStxztDS28"
      }
    },
    {
      "cell_type": "code",
      "source": [
        "class JSS2(JSS):\n",
        "  def __init__(self):\n",
        "    super().__init__()\n",
        "    self.gender = input(\"Gender: \")"
      ],
      "metadata": {
        "id": "XLYa0QYzDAYb"
      },
      "execution_count": 7,
      "outputs": []
    },
    {
      "cell_type": "code",
      "source": [
        "a = JSS2()"
      ],
      "metadata": {
        "colab": {
          "base_uri": "https://localhost:8080/"
        },
        "id": "oLwaaBnUEUc_",
        "outputId": "721cf72a-8584-484d-96d4-04a203ddd83d"
      },
      "execution_count": 8,
      "outputs": [
        {
          "name": "stdout",
          "output_type": "stream",
          "text": [
            "Name: David\n",
            "age: 32\n",
            "Gender: Male\n"
          ]
        }
      ]
    },
    {
      "cell_type": "code",
      "source": [
        "a.show()"
      ],
      "metadata": {
        "colab": {
          "base_uri": "https://localhost:8080/"
        },
        "id": "WkR_b8ZVEgn0",
        "outputId": "5a231e09-09ca-43c5-e959-656bb52a6f16"
      },
      "execution_count": 9,
      "outputs": [
        {
          "output_type": "stream",
          "name": "stdout",
          "text": [
            "My name is David and my age is 32\n"
          ]
        }
      ]
    }
  ]
}