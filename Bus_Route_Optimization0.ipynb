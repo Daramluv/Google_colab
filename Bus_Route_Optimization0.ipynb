{
  "nbformat": 4,
  "nbformat_minor": 0,
  "metadata": {
    "colab": {
      "provenance": [],
      "authorship_tag": "ABX9TyOHa9HYcALI5IMFvM7xdS0i",
      "include_colab_link": true
    },
    "kernelspec": {
      "name": "python3",
      "display_name": "Python 3"
    },
    "language_info": {
      "name": "python"
    }
  },
  "cells": [
    {
      "cell_type": "markdown",
      "metadata": {
        "id": "view-in-github",
        "colab_type": "text"
      },
      "source": [
        "<a href=\"https://colab.research.google.com/github/Daramluv/Google_colab/blob/main/Bus_Route_Optimization0.ipynb\" target=\"_parent\"><img src=\"https://colab.research.google.com/assets/colab-badge.svg\" alt=\"Open In Colab\"/></a>"
      ]
    },
    {
      "cell_type": "code",
      "execution_count": 1,
      "metadata": {
        "colab": {
          "base_uri": "https://localhost:8080/"
        },
        "id": "dY1NOg6YBpWH",
        "outputId": "68847566-54a0-4bd5-b76f-4293df4b4827"
      },
      "outputs": [
        {
          "output_type": "stream",
          "name": "stdout",
          "text": [
            "Collecting gurobipy\n",
            "  Downloading gurobipy-12.0.0-cp310-cp310-manylinux2014_x86_64.manylinux_2_17_x86_64.whl.metadata (15 kB)\n",
            "Downloading gurobipy-12.0.0-cp310-cp310-manylinux2014_x86_64.manylinux_2_17_x86_64.whl (14.4 MB)\n",
            "\u001b[2K   \u001b[90m━━━━━━━━━━━━━━━━━━━━━━━━━━━━━━━━━━━━━━━━\u001b[0m \u001b[32m14.4/14.4 MB\u001b[0m \u001b[31m55.9 MB/s\u001b[0m eta \u001b[36m0:00:00\u001b[0m\n",
            "\u001b[?25hInstalling collected packages: gurobipy\n",
            "Successfully installed gurobipy-12.0.0\n"
          ]
        }
      ],
      "source": [
        "%pip install gurobipy"
      ]
    },
    {
      "cell_type": "code",
      "source": [
        "from itertools import product\n",
        "from math import sqrt, factorial\n",
        "import numpy as np\n",
        "import gurobipy as gp\n",
        "from gurobipy import GRB"
      ],
      "metadata": {
        "id": "cDzbnGKmBs59"
      },
      "execution_count": 2,
      "outputs": []
    },
    {
      "cell_type": "code",
      "source": [
        "#####################################################\n",
        "#                    Model Formulation\n",
        "#####################################################\n",
        "\n",
        "m = gp.Model('bus routes')\n",
        "\n",
        "# indices for companies and routes\n",
        "company = [*range(0,6)]\n",
        "route = [*range(0,8)]\n",
        "\n",
        "# bids\n",
        "c = [[0,\t8200,\t7800,\t5400,\t0,\t3900,\t0,\t0],\n",
        "    [7800,\t8200,\t0,\t6300,\t0,\t3300,\t4900,\t0],\n",
        "    [0,\t4800,\t0,\t0,\t0,\t4400,\t5600,\t3600],\n",
        "    [0,\t0,\t8000,\t5000,\t6800,\t0,\t6700,\t4200],\n",
        "    [7200,\t6400,\t0,\t3900,\t6400,\t2800,\t0,\t3000],\n",
        "    [7000,\t5800,\t7500,\t4500,\t5600,\t0,\t6000,\t4200]]\n",
        "\n",
        "# Valid set of tuples\n",
        "A = []\n",
        "for i in company:\n",
        "    for j in route:\n",
        "        if c[i][j] > 0:\n",
        "            tp = i,j\n",
        "            A.append(tp)\n",
        "\n",
        "# take a look at the set\n",
        "# print(np.matrix(A))\n",
        "\n",
        "# valid set of bids for route j\n",
        "AJ = []\n",
        "k = 0\n",
        "for l in route:\n",
        "    A_temp = []\n",
        "    for i in company:\n",
        "        for j in route:\n",
        "            if c[i][j] > 0:\n",
        "                if j==k:\n",
        "                    tp = i,j\n",
        "                    A_temp.append(tp)\n",
        "    AJ.append(A_temp)\n",
        "    k+=1\n",
        "\n",
        "# take a look at a sample\n",
        "# print(np.matrix(AJ[0]))\n",
        "\n",
        "# valid set of routes that can be covered by company i\n",
        "AI = []\n",
        "k = 0\n",
        "for l in route:\n",
        "    A_temp = []\n",
        "    for i in company:\n",
        "        for j in route:\n",
        "            if c[i][j] > 0:\n",
        "                if i==k:\n",
        "                    tp = i,j\n",
        "                    A_temp.append(tp)\n",
        "    AI.append(A_temp)\n",
        "    k+=1\n",
        "\n",
        "# take a look at a sample\n",
        "# print(np.matrix(AI[0]))\n",
        "\n",
        "# Build decision variables: where to assign company i to route j\n",
        "x = m.addVars(A, vtype=GRB.BINARY, name='Assign')\n",
        "\n",
        "# Objective function: Minimize total payroll cost\n",
        "m.setObjective(gp.quicksum(c[i][j]*x[(i,j)] for i,j in A), GRB.MINIMIZE)\n",
        "\n",
        "# Cover each route\n",
        "routeConstrs = m.addConstrs((gp.quicksum(x[(i,j)] for i,j in AJ[j]) >= 1 for j in route),\n",
        "                                      name='routeConstrs')\n",
        "\n",
        "# No company can be assigned more than two routes\n",
        "companyConstrs = m.addConstrs((gp.quicksum(x[(i,j)] for i,j in AI[i]) <= 2 for i in company),\n",
        "                                      name='companyConstrs')\n",
        "\n",
        "# Run optimization engine\n",
        "m.optimize()"
      ],
      "metadata": {
        "colab": {
          "base_uri": "https://localhost:8080/"
        },
        "id": "_LYHZO5lBwvp",
        "outputId": "b2f9dbd8-6c04-4e47-dce2-aa93620776d3"
      },
      "execution_count": 3,
      "outputs": [
        {
          "output_type": "stream",
          "name": "stdout",
          "text": [
            "Restricted license - for non-production use only - expires 2026-11-23\n",
            "Gurobi Optimizer version 12.0.0 build v12.0.0rc1 (linux64 - \"Ubuntu 22.04.3 LTS\")\n",
            "\n",
            "CPU model: Intel(R) Xeon(R) CPU @ 2.20GHz, instruction set [SSE2|AVX|AVX2]\n",
            "Thread count: 1 physical cores, 2 logical processors, using up to 2 threads\n",
            "\n",
            "Optimize a model with 14 rows, 31 columns and 62 nonzeros\n",
            "Model fingerprint: 0x9bb1731f\n",
            "Variable types: 0 continuous, 31 integer (31 binary)\n",
            "Coefficient statistics:\n",
            "  Matrix range     [1e+00, 1e+00]\n",
            "  Objective range  [3e+03, 8e+03]\n",
            "  Bounds range     [1e+00, 1e+00]\n",
            "  RHS range        [1e+00, 2e+00]\n",
            "Found heuristic solution: objective 44300.000000\n",
            "Presolve time: 0.00s\n",
            "Presolved: 14 rows, 31 columns, 62 nonzeros\n",
            "Variable types: 0 continuous, 31 integer (31 binary)\n",
            "\n",
            "Root relaxation: objective 4.030000e+04, 10 iterations, 0.00 seconds (0.00 work units)\n",
            "\n",
            "    Nodes    |    Current Node    |     Objective Bounds      |     Work\n",
            " Expl Unexpl |  Obj  Depth IntInf | Incumbent    BestBd   Gap | It/Node Time\n",
            "\n",
            "*    0     0               0    40300.000000 40300.0000  0.00%     -    0s\n",
            "\n",
            "Explored 1 nodes (10 simplex iterations) in 0.03 seconds (0.00 work units)\n",
            "Thread count was 2 (of 2 available processors)\n",
            "\n",
            "Solution count 2: 40300 44300 \n",
            "\n",
            "Optimal solution found (tolerance 1.00e-04)\n",
            "Best objective 4.030000000000e+04, best bound 4.030000000000e+04, gap 0.0000%\n"
          ]
        }
      ]
    },
    {
      "cell_type": "code",
      "source": [
        "#####################################################\n",
        "#         Assignment results\n",
        "#####################################################\n",
        "\n",
        "print(f\"\\n\\n___Optimal assignment on each route________\")\n",
        "t_cost = 0\n",
        "for i,j in A:\n",
        "    if x[(i,j)].x > 0:\n",
        "        print(\"Company %2d is assigned to route %2d: $%4d\" % (i+1, j+1, c[i][j]))\n",
        "        t_cost += c[i][j]\n",
        "\n",
        "print(\"The total cost of covering all routes is $%5d\" % (t_cost))"
      ],
      "metadata": {
        "colab": {
          "base_uri": "https://localhost:8080/"
        },
        "id": "5lEKlw9hBzUk",
        "outputId": "21a06304-5f56-40cf-e4ef-ddbd6df5bc85"
      },
      "execution_count": 4,
      "outputs": [
        {
          "output_type": "stream",
          "name": "stdout",
          "text": [
            "\n",
            "\n",
            "___Optimal assignment on each route________\n",
            "Company  1 is assigned to route  3: $7800\n",
            "Company  2 is assigned to route  6: $3300\n",
            "Company  2 is assigned to route  7: $4900\n",
            "Company  3 is assigned to route  2: $4800\n",
            "Company  5 is assigned to route  4: $3900\n",
            "Company  5 is assigned to route  8: $3000\n",
            "Company  6 is assigned to route  1: $7000\n",
            "Company  6 is assigned to route  5: $5600\n",
            "The total cost of covering all routes is $40300\n"
          ]
        }
      ]
    },
    {
      "cell_type": "markdown",
      "source": [
        "--\n",
        "##  Conclusion\n",
        "\n",
        "In this example, we addressed the but route assignment problem. We determined the optimal assignment of companies to routes:\n",
        "* Satisfy coverage for each route,\n",
        "* Minimize the total operating cost, and\n",
        "* Ensure no companies are assigned more than two routes, and no companies are assigned to a route where the is no bid.\n",
        "\n",
        "A special technique in the model formulation is sparse reprentation, where we significantly reduce the number of decision variables by restricting the set of decisions to be on the valid bids only. This benefit becomes more significant as problem size grows.\n",
        "\n",
        "This bus assignment model can be used by many organizations to help make informed decisions about covering certain demands from a diverse set of resources where not all resources are suitable for all demands.\n"
      ],
      "metadata": {
        "id": "Kr2xx2FhB5cJ"
      }
    }
  ]
}