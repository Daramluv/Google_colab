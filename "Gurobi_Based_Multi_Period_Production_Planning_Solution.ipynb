{
  "nbformat": 4,
  "nbformat_minor": 0,
  "metadata": {
    "colab": {
      "provenance": [],
      "authorship_tag": "ABX9TyMukRzerP3+7gUx90s4IJWO",
      "include_colab_link": true
    },
    "kernelspec": {
      "name": "python3",
      "display_name": "Python 3"
    },
    "language_info": {
      "name": "python"
    }
  },
  "cells": [
    {
      "cell_type": "markdown",
      "metadata": {
        "id": "view-in-github",
        "colab_type": "text"
      },
      "source": [
        "<a href=\"https://colab.research.google.com/github/Daramluv/Google_colab/blob/main/%22Gurobi_Based_Multi_Period_Production_Planning_Solution.ipynb\" target=\"_parent\"><img src=\"https://colab.research.google.com/assets/colab-badge.svg\" alt=\"Open In Colab\"/></a>"
      ]
    },
    {
      "cell_type": "code",
      "execution_count": 1,
      "metadata": {
        "colab": {
          "base_uri": "https://localhost:8080/",
          "height": 0
        },
        "id": "cg7dLxZry7Yg",
        "outputId": "1a0009d2-3620-4e99-a2a5-51d2723f598d"
      },
      "outputs": [
        {
          "output_type": "stream",
          "name": "stdout",
          "text": [
            "Collecting gurobipy\n",
            "  Downloading gurobipy-12.0.0-cp310-cp310-manylinux2014_x86_64.manylinux_2_17_x86_64.whl.metadata (15 kB)\n",
            "Downloading gurobipy-12.0.0-cp310-cp310-manylinux2014_x86_64.manylinux_2_17_x86_64.whl (14.4 MB)\n",
            "\u001b[2K   \u001b[90m━━━━━━━━━━━━━━━━━━━━━━━━━━━━━━━━━━━━━━━━\u001b[0m \u001b[32m14.4/14.4 MB\u001b[0m \u001b[31m40.7 MB/s\u001b[0m eta \u001b[36m0:00:00\u001b[0m\n",
            "\u001b[?25hInstalling collected packages: gurobipy\n",
            "Successfully installed gurobipy-12.0.0\n"
          ]
        }
      ],
      "source": [
        "pip install gurobipy"
      ]
    },
    {
      "cell_type": "code",
      "source": [
        "import gurobipy as gp\n",
        "from gurobipy import GRB\n",
        "import numpy as np"
      ],
      "metadata": {
        "id": "8uPVk6J4y76y"
      },
      "execution_count": 2,
      "outputs": []
    },
    {
      "cell_type": "code",
      "source": [
        "\n",
        "# Create a new Gurobi model\n",
        "model = gp.Model(\"MultiPeriodProductionPlanning\")\n",
        "\n",
        "# Data\n",
        "noOfPeriods = 6\n",
        "holdingCost =0.05\n",
        "openingInventory=5000\n",
        "productionCapacity = 30000\n",
        "storageCapacity=10000\n",
        "productionCost= np.array([12.50,12.55,12.70,12.80,12.85,12.95])\n",
        "monthlyDemand=np.array([10000,15000,30000,35000,25000,10000])"
      ],
      "metadata": {
        "colab": {
          "base_uri": "https://localhost:8080/",
          "height": 0
        },
        "id": "q9kd-gLyy_tu",
        "outputId": "9afe24ce-b286-4ce2-be95-4cf01509d979"
      },
      "execution_count": 3,
      "outputs": [
        {
          "output_type": "stream",
          "name": "stdout",
          "text": [
            "Restricted license - for non-production use only - expires 2026-11-23\n"
          ]
        }
      ]
    },
    {
      "cell_type": "code",
      "source": [
        "# Create the decision variables\n",
        "x = {}\n",
        "for j in range(noOfPeriods):\n",
        "    x[j] = model.addVar(vtype=GRB.INTEGER, name=f\"x_{j}\")"
      ],
      "metadata": {
        "id": "yQOi_fD-zBOB"
      },
      "execution_count": 4,
      "outputs": []
    },
    {
      "cell_type": "code",
      "source": [
        "\n",
        "# Set objective: maximize profit\n",
        "model.setObjective(\n",
        "    gp.quicksum((x[j] * productionCost[j] +\n",
        "                 (openingInventory + gp.quicksum( x[i]  - monthlyDemand[i] for i in range(j) )) * productionCost[j] * holdingCost  for j in range(noOfPeriods) )),\n",
        "    GRB.MINIMIZE,\n",
        ")"
      ],
      "metadata": {
        "id": "ffi0AZHJzCtH"
      },
      "execution_count": 5,
      "outputs": []
    },
    {
      "cell_type": "code",
      "source": [
        "# Constraints\n",
        "\n",
        "\n",
        "# Ensure Production capacity\n",
        "for j in range(noOfPeriods):\n",
        "    model.addConstr(x[j] <= productionCapacity, f\"Production Capacity {j}\")\n",
        "\n",
        "# Ensure demand is met\n",
        "for j in range(noOfPeriods):\n",
        "    model.addConstr(gp.quicksum((x[j]  - monthlyDemand[j])  for j in range(noOfPeriods))  + openingInventory >= 0, f\"Closing Stock{j}\")"
      ],
      "metadata": {
        "id": "dWaqj-HyzD4I"
      },
      "execution_count": 6,
      "outputs": []
    },
    {
      "cell_type": "code",
      "source": [
        "\n",
        "# Optimize the model\n",
        "model.optimize()\n",
        "\n",
        "# Print the results\n",
        "if model.status == GRB.OPTIMAL:\n",
        "    print(\"Optimal solution found:\")\n",
        "    for j in range( noOfPeriods):\n",
        "        if x[j].x > 0:\n",
        "            print(f\"Produce {j + 1}\",x[j].x )\n",
        "\n",
        "    print(f\"Total Profit: ${model.objVal:.2f}\")\n",
        "else:\n",
        "    print(\"No solution found.\")"
      ],
      "metadata": {
        "colab": {
          "base_uri": "https://localhost:8080/",
          "height": 0
        },
        "id": "rqX4pQuMzFje",
        "outputId": "282a0313-6d09-45df-cc76-176ee2b14e5c"
      },
      "execution_count": 7,
      "outputs": [
        {
          "output_type": "stream",
          "name": "stdout",
          "text": [
            "Gurobi Optimizer version 12.0.0 build v12.0.0rc1 (linux64 - \"Ubuntu 22.04.3 LTS\")\n",
            "\n",
            "CPU model: Intel(R) Xeon(R) CPU @ 2.20GHz, instruction set [SSE2|AVX|AVX2]\n",
            "Thread count: 1 physical cores, 2 logical processors, using up to 2 threads\n",
            "\n",
            "Optimize a model with 12 rows, 6 columns and 42 nonzeros\n",
            "Model fingerprint: 0x42b0524f\n",
            "Variable types: 0 continuous, 6 integer (0 binary)\n",
            "Coefficient statistics:\n",
            "  Matrix range     [1e+00, 1e+00]\n",
            "  Objective range  [1e+01, 2e+01]\n",
            "  Bounds range     [0e+00, 0e+00]\n",
            "  RHS range        [3e+04, 1e+05]\n",
            "Presolve removed 12 rows and 6 columns\n",
            "Presolve time: 0.00s\n",
            "Presolve: All rows and columns removed\n",
            "\n",
            "Explored 0 nodes (0 simplex iterations) in 0.02 seconds (0.00 work units)\n",
            "Thread count was 1 (of 2 available processors)\n",
            "\n",
            "Solution count 1: 1.48448e+06 \n",
            "\n",
            "Optimal solution found (tolerance 1.00e-04)\n",
            "Best objective 1.484475000000e+06, best bound 1.484475000000e+06, gap 0.0000%\n",
            "Optimal solution found:\n",
            "Produce 3 30000.0\n",
            "Produce 4 30000.0\n",
            "Produce 5 30000.0\n",
            "Produce 6 30000.0\n",
            "Total Profit: $1484475.00\n"
          ]
        }
      ]
    },
    {
      "cell_type": "code",
      "source": [],
      "metadata": {
        "id": "86KXGAsVzHES"
      },
      "execution_count": null,
      "outputs": []
    }
  ]
}