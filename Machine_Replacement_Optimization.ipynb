{
  "nbformat": 4,
  "nbformat_minor": 0,
  "metadata": {
    "colab": {
      "provenance": [],
      "authorship_tag": "ABX9TyOYZpKx1rCOkXzCJXmBZyJ+",
      "include_colab_link": true
    },
    "kernelspec": {
      "name": "python3",
      "display_name": "Python 3"
    },
    "language_info": {
      "name": "python"
    }
  },
  "cells": [
    {
      "cell_type": "markdown",
      "metadata": {
        "id": "view-in-github",
        "colab_type": "text"
      },
      "source": [
        "<a href=\"https://colab.research.google.com/github/Daramluv/Google_colab/blob/main/Machine_Replacement_Optimization.ipynb\" target=\"_parent\"><img src=\"https://colab.research.google.com/assets/colab-badge.svg\" alt=\"Open In Colab\"/></a>"
      ]
    },
    {
      "cell_type": "code",
      "execution_count": 1,
      "metadata": {
        "colab": {
          "base_uri": "https://localhost:8080/"
        },
        "id": "p6QpcicqNwDy",
        "outputId": "b2e51d49-0dcd-4cfb-c84d-99653256b187"
      },
      "outputs": [
        {
          "output_type": "stream",
          "name": "stdout",
          "text": [
            "Collecting gurobipy\n",
            "  Downloading gurobipy-12.0.0-cp310-cp310-manylinux2014_x86_64.manylinux_2_17_x86_64.whl.metadata (15 kB)\n",
            "Downloading gurobipy-12.0.0-cp310-cp310-manylinux2014_x86_64.manylinux_2_17_x86_64.whl (14.4 MB)\n",
            "\u001b[2K   \u001b[90m━━━━━━━━━━━━━━━━━━━━━━━━━━━━━━━━━━━━━━━━\u001b[0m \u001b[32m14.4/14.4 MB\u001b[0m \u001b[31m76.0 MB/s\u001b[0m eta \u001b[36m0:00:00\u001b[0m\n",
            "\u001b[?25hInstalling collected packages: gurobipy\n",
            "Successfully installed gurobipy-12.0.0\n"
          ]
        }
      ],
      "source": [
        "%pip install gurobipy"
      ]
    },
    {
      "cell_type": "code",
      "source": [
        "from itertools import product\n",
        "from math import sqrt, factorial\n",
        "import numpy as np\n",
        "import gurobipy as gp\n",
        "from gurobipy import GRB"
      ],
      "metadata": {
        "id": "g_ZYdt3GNxxA"
      },
      "execution_count": 2,
      "outputs": []
    },
    {
      "cell_type": "code",
      "source": [
        "#####################################################\n",
        "#                    Model Formulation\n",
        "#####################################################\n",
        "\n",
        "m = gp.Model('equipment maintainance')\n",
        "\n",
        "# indices for companies and routes\n",
        "node = [*range(0,21)]\n",
        "start = [*range(0,1)]\n",
        "transit = [*range(1,20)]\n",
        "end = [*range(20,21)]\n",
        "\n",
        "#print(node)\n",
        "#print(start)\n",
        "#print(transit)\n",
        "#print(end)\n",
        "\n",
        "# various cost/price\n",
        "\n",
        "p = 3530\n",
        "s0 = 1530\n",
        "s1 = 110\n",
        "m0 = 100\n",
        "m1 = 65\n",
        "\n",
        "# build c_ij matrix\n",
        "\n",
        "c = [[0 for i in node] for j in node]\n",
        "\n",
        "# Valid set of tuples\n",
        "A = []\n",
        "for i in node:\n",
        "    for j in node:\n",
        "        if j-i >= 4 and j-i <= 11:\n",
        "\n",
        "            mc = 0\n",
        "            for k in range(0,j-i):\n",
        "              mc += m0+m1*k\n",
        "\n",
        "            c[i][j] = p + mc - (s0-s1*(j-i-1))\n",
        "\n",
        "            tp = i,j\n",
        "            A.append(tp)\n",
        "\n",
        "print(np.matrix(c))\n",
        "\n",
        "# Valid set of tuples\n",
        "#A = []\n",
        "#for i in node:\n",
        "#    for j in node:\n",
        "#        if c[i][j] > 0:\n",
        "#            tp = i,j\n",
        "#            A.append(tp)\n",
        "\n",
        "# take a look at the set\n",
        "# print(np.matrix(A))\n",
        "\n",
        "# valid set of inbound routes for node j\n",
        "AI = []\n",
        "k = 0\n",
        "for l in node:\n",
        "    A_temp = []\n",
        "    for i in node:\n",
        "        for j in node:\n",
        "            if c[i][j] > 0:\n",
        "                if j==k:\n",
        "                    tp = i,j\n",
        "                    A_temp.append(tp)\n",
        "    AI.append(A_temp)\n",
        "    k+=1\n",
        "\n",
        "# take a look at a sample\n",
        "# print(np.matrix(AI[0]))\n",
        "\n",
        "# valid set of outbound routes for node j\n",
        "AO = []\n",
        "k = 0\n",
        "for l in node:\n",
        "    A_temp = []\n",
        "    for i in node:\n",
        "        for j in node:\n",
        "            if c[i][j] > 0:\n",
        "                if i==k:\n",
        "                    tp = i,j\n",
        "                    A_temp.append(tp)\n",
        "    AO.append(A_temp)\n",
        "    k+=1\n",
        "\n",
        "# take a look at a sample\n",
        "# print(np.matrix(AO[0]))\n",
        "\n",
        "# Build decision variables: where to assign company i to route j\n",
        "x = m.addVars(A, vtype=GRB.BINARY, name='Keep')\n",
        "\n",
        "# Objective function: Minimize total payroll cost\n",
        "m.setObjective(gp.quicksum(c[i][j]*x[(i,j)] for i,j in A), GRB.MINIMIZE)\n",
        "\n",
        "# Reach the fifth year (21 quarter)\n",
        "endConstrs = m.addConstrs((gp.quicksum(x[(i,j)] for i,j in AI[j]) - gp.quicksum(x[(j,k)] for j,k in AO[j]) >= 1 for j in end),\n",
        "                                      name='endConstrs')\n",
        "\n",
        "# Cannot exceed plant capacity\n",
        "startConstrs = m.addConstrs((gp.quicksum(x[(i,j)] for i,j in AO[i]) - gp.quicksum(x[(k,i)] for k,i in AI[i]) <= 1 for i in start),\n",
        "                                      name='startConstrs')\n",
        "\n",
        "# Blanacing for transit nodes\n",
        "transitConstrs = m.addConstrs((gp.quicksum(x[(i,j)] for i,j in AI[j]) - gp.quicksum(x[(j,k)] for j,k in AO[j]) == 0 for j in transit),\n",
        "                                      name='transitConstrs')\n",
        "\n",
        "# Run optimization engine\n",
        "m.optimize()"
      ],
      "metadata": {
        "colab": {
          "base_uri": "https://localhost:8080/"
        },
        "id": "SGIDupemN14r",
        "outputId": "05c49f93-d519-4507-b423-faaeee14f9f4"
      },
      "execution_count": 3,
      "outputs": [
        {
          "output_type": "stream",
          "name": "stdout",
          "text": [
            "Restricted license - for non-production use only - expires 2026-11-23\n",
            "[[   0    0    0    0 3120 3590 4125 4725 5390 6120 6915 7775    0    0\n",
            "     0    0    0    0    0    0    0]\n",
            " [   0    0    0    0    0 3120 3590 4125 4725 5390 6120 6915 7775    0\n",
            "     0    0    0    0    0    0    0]\n",
            " [   0    0    0    0    0    0 3120 3590 4125 4725 5390 6120 6915 7775\n",
            "     0    0    0    0    0    0    0]\n",
            " [   0    0    0    0    0    0    0 3120 3590 4125 4725 5390 6120 6915\n",
            "  7775    0    0    0    0    0    0]\n",
            " [   0    0    0    0    0    0    0    0 3120 3590 4125 4725 5390 6120\n",
            "  6915 7775    0    0    0    0    0]\n",
            " [   0    0    0    0    0    0    0    0    0 3120 3590 4125 4725 5390\n",
            "  6120 6915 7775    0    0    0    0]\n",
            " [   0    0    0    0    0    0    0    0    0    0 3120 3590 4125 4725\n",
            "  5390 6120 6915 7775    0    0    0]\n",
            " [   0    0    0    0    0    0    0    0    0    0    0 3120 3590 4125\n",
            "  4725 5390 6120 6915 7775    0    0]\n",
            " [   0    0    0    0    0    0    0    0    0    0    0    0 3120 3590\n",
            "  4125 4725 5390 6120 6915 7775    0]\n",
            " [   0    0    0    0    0    0    0    0    0    0    0    0    0 3120\n",
            "  3590 4125 4725 5390 6120 6915 7775]\n",
            " [   0    0    0    0    0    0    0    0    0    0    0    0    0    0\n",
            "  3120 3590 4125 4725 5390 6120 6915]\n",
            " [   0    0    0    0    0    0    0    0    0    0    0    0    0    0\n",
            "     0 3120 3590 4125 4725 5390 6120]\n",
            " [   0    0    0    0    0    0    0    0    0    0    0    0    0    0\n",
            "     0    0 3120 3590 4125 4725 5390]\n",
            " [   0    0    0    0    0    0    0    0    0    0    0    0    0    0\n",
            "     0    0    0 3120 3590 4125 4725]\n",
            " [   0    0    0    0    0    0    0    0    0    0    0    0    0    0\n",
            "     0    0    0    0 3120 3590 4125]\n",
            " [   0    0    0    0    0    0    0    0    0    0    0    0    0    0\n",
            "     0    0    0    0    0 3120 3590]\n",
            " [   0    0    0    0    0    0    0    0    0    0    0    0    0    0\n",
            "     0    0    0    0    0    0 3120]\n",
            " [   0    0    0    0    0    0    0    0    0    0    0    0    0    0\n",
            "     0    0    0    0    0    0    0]\n",
            " [   0    0    0    0    0    0    0    0    0    0    0    0    0    0\n",
            "     0    0    0    0    0    0    0]\n",
            " [   0    0    0    0    0    0    0    0    0    0    0    0    0    0\n",
            "     0    0    0    0    0    0    0]\n",
            " [   0    0    0    0    0    0    0    0    0    0    0    0    0    0\n",
            "     0    0    0    0    0    0    0]]\n",
            "Gurobi Optimizer version 12.0.0 build v12.0.0rc1 (linux64 - \"Ubuntu 22.04.3 LTS\")\n",
            "\n",
            "CPU model: Intel(R) Xeon(R) CPU @ 2.20GHz, instruction set [SSE2|AVX|AVX2]\n",
            "Thread count: 1 physical cores, 2 logical processors, using up to 2 threads\n",
            "\n",
            "Optimize a model with 21 rows, 108 columns and 216 nonzeros\n",
            "Model fingerprint: 0xb5239027\n",
            "Variable types: 0 continuous, 108 integer (108 binary)\n",
            "Coefficient statistics:\n",
            "  Matrix range     [1e+00, 1e+00]\n",
            "  Objective range  [3e+03, 8e+03]\n",
            "  Bounds range     [1e+00, 1e+00]\n",
            "  RHS range        [1e+00, 1e+00]\n",
            "Found heuristic solution: objective 13895.000000\n",
            "Presolve removed 21 rows and 108 columns\n",
            "Presolve time: 0.00s\n",
            "Presolve: All rows and columns removed\n",
            "\n",
            "Explored 0 nodes (0 simplex iterations) in 0.03 seconds (0.00 work units)\n",
            "Thread count was 1 (of 2 available processors)\n",
            "\n",
            "Solution count 2: 13575 13895 \n",
            "\n",
            "Optimal solution found (tolerance 1.00e-04)\n",
            "Best objective 1.357500000000e+04, best bound 1.357500000000e+04, gap 0.0000%\n"
          ]
        }
      ]
    },
    {
      "cell_type": "code",
      "source": [
        "#####################################################\n",
        "#         Shipment results\n",
        "#####################################################\n",
        "\n",
        "print(f\"\\n\\n___Optimal shipment from plants to customers________\")\n",
        "t_cost = 0\n",
        "for i,j in A:\n",
        "    if x[(i,j)].x > 0:\n",
        "        if i<=0:\n",
        "          s_node_type = \"start\"\n",
        "        elif i<=19:\n",
        "          s_node_type = \"transit\"\n",
        "        else:\n",
        "          s_node_type = \"end\"\n",
        "        if j<=0:\n",
        "          d_node_type = \"start\"\n",
        "        elif j<=19:\n",
        "          d_node_type = \"transit\"\n",
        "        else:\n",
        "          d_node_type = \"end\"\n",
        "\n",
        "        print(\"Keep machines from %s quarter %2d to %s quarter %2d\" % (s_node_type, i+1, d_node_type, j+1))\n",
        "        t_cost += x[(i,j)].x*c[i][j]\n",
        "\n",
        "print(\"The total cost of equipment maintainance over the five years is $%5d\" % (t_cost))"
      ],
      "metadata": {
        "colab": {
          "base_uri": "https://localhost:8080/"
        },
        "id": "Cqv6gT7hN4uz",
        "outputId": "a4527693-8b52-48bd-bedc-c32abb87ae6c"
      },
      "execution_count": 4,
      "outputs": [
        {
          "output_type": "stream",
          "name": "stdout",
          "text": [
            "\n",
            "\n",
            "___Optimal shipment from plants to customers________\n",
            "Keep machines from start quarter  1 to transit quarter  7\n",
            "Keep machines from transit quarter  7 to transit quarter 14\n",
            "Keep machines from transit quarter 14 to end quarter 21\n",
            "The total cost of equipment maintainance over the five years is $13575\n"
          ]
        }
      ]
    },
    {
      "cell_type": "markdown",
      "source": [
        "##  Conclusion\n",
        "\n",
        "In this example, we addressed the tomato shipping problem. We determined the optimal shipment  of tomatos from plants to customers:\n",
        "* Satisfy demand for each customer,\n",
        "* Minimize the total shipping cost,  \n",
        "* Ensure plant capacities are not exceeded, and\n",
        "* Utilize transhipment to reduce shipping cost.\n",
        "\n",
        "A special technique in the model formulation is sparse reprentation, where we significantly reduce the number of decision variables by restricting the set of decisions to be on the valid routes only. This benefit becomes more significant as problem size grows.\n",
        "\n",
        "This tomato shipment model can be used in many different settings to help companies make informed decisions about satisfying customer demands from a set of plants where there are transit stations allowing for transhipments.\n"
      ],
      "metadata": {
        "id": "cphBsXmpN-iw"
      }
    },
    {
      "cell_type": "code",
      "source": [],
      "metadata": {
        "id": "tnOyiNg5OHvV"
      },
      "execution_count": null,
      "outputs": []
    }
  ]
}