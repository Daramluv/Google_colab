{
  "nbformat": 4,
  "nbformat_minor": 0,
  "metadata": {
    "colab": {
      "provenance": [],
      "authorship_tag": "ABX9TyO1IyNJPWnBHsKFUZaF66oe",
      "include_colab_link": true
    },
    "kernelspec": {
      "name": "python3",
      "display_name": "Python 3"
    },
    "language_info": {
      "name": "python"
    }
  },
  "cells": [
    {
      "cell_type": "markdown",
      "metadata": {
        "id": "view-in-github",
        "colab_type": "text"
      },
      "source": [
        "<a href=\"https://colab.research.google.com/github/Daramluv/Google_colab/blob/main/Product_Mix_computer.ipynb\" target=\"_parent\"><img src=\"https://colab.research.google.com/assets/colab-badge.svg\" alt=\"Open In Colab\"/></a>"
      ]
    },
    {
      "cell_type": "code",
      "execution_count": null,
      "metadata": {
        "colab": {
          "base_uri": "https://localhost:8080/"
        },
        "id": "jsyd8P3GxWRu",
        "outputId": "14e8524b-e7a3-4982-c94e-d04878eb4aa0"
      },
      "outputs": [
        {
          "output_type": "stream",
          "name": "stdout",
          "text": [
            "Collecting gurobipy\n",
            "  Downloading gurobipy-12.0.0-cp310-cp310-manylinux2014_x86_64.manylinux_2_17_x86_64.whl.metadata (15 kB)\n",
            "Downloading gurobipy-12.0.0-cp310-cp310-manylinux2014_x86_64.manylinux_2_17_x86_64.whl (14.4 MB)\n",
            "\u001b[2K   \u001b[90m━━━━━━━━━━━━━━━━━━━━━━━━━━━━━━━━━━━━━━━━\u001b[0m \u001b[32m14.4/14.4 MB\u001b[0m \u001b[31m26.0 MB/s\u001b[0m eta \u001b[36m0:00:00\u001b[0m\n",
            "\u001b[?25hInstalling collected packages: gurobipy\n",
            "Successfully installed gurobipy-12.0.0\n"
          ]
        }
      ],
      "source": [
        "pip install gurobipy"
      ]
    },
    {
      "cell_type": "code",
      "source": [
        "import gurobipy as gp\n",
        "from gurobipy import GRB"
      ],
      "metadata": {
        "id": "gjgE1Ub2xW74"
      },
      "execution_count": null,
      "outputs": []
    },
    {
      "cell_type": "code",
      "source": [
        "#####################################################\n",
        "#                    Model Formulation\n",
        "#####################################################\n",
        "\n",
        "m = gp.Model('computer mix')"
      ],
      "metadata": {
        "colab": {
          "base_uri": "https://localhost:8080/"
        },
        "id": "oLa77XOVxbdF",
        "outputId": "bc650f2b-4d1b-4e5a-c646-c8ff4554e765"
      },
      "execution_count": null,
      "outputs": [
        {
          "output_type": "stream",
          "name": "stdout",
          "text": [
            "Restricted license - for non-production use only - expires 2026-11-23\n"
          ]
        }
      ]
    },
    {
      "cell_type": "code",
      "source": [
        "#Input Parameters\n",
        "computer_type = [*range(0,2)]\n",
        "Computer_type_label =['Basic','XP']\n",
        "\n",
        "LaborAssembly = [5,6]\n",
        "LaborTesting = [1,2]\n",
        "CostComponents =[150,225]\n",
        "SellingPrice = [300,450]\n",
        "Demand = [600,1200]\n",
        "TotalAssemblyhours = 10000\n",
        "TotalTestinghours = 3000\n",
        "LACost = 11\n",
        "LTCost = 15"
      ],
      "metadata": {
        "id": "8i6AzIgMxc67"
      },
      "execution_count": null,
      "outputs": []
    },
    {
      "cell_type": "code",
      "source": [
        "#Decision Variable\n",
        "x = m.addVars(computer_type, vtype=GRB.CONTINUOUS, name=Computer_type_label)"
      ],
      "metadata": {
        "id": "S3-mrDmfxfnc"
      },
      "execution_count": null,
      "outputs": []
    },
    {
      "cell_type": "code",
      "source": [
        "# Set the Maximize Obijective: Total profit\n",
        "m.setObjective(gp.quicksum((SellingPrice[i]-CostComponents[i]-LaborAssembly[i]*LACost -LaborTesting[i]*LTCost)*x[i]\n",
        "                          for i in computer_type),  GRB.MAXIMIZE)"
      ],
      "metadata": {
        "id": "StgXbT8oxhFt"
      },
      "execution_count": null,
      "outputs": []
    },
    {
      "cell_type": "code",
      "source": [
        "#Set Non-negative Decision Variable\n",
        "c1 = m.addConstrs((x[i] >= 0 for i in computer_type), name = 'non-negative production')\n",
        "\n",
        "# Total Computers produced must be less than or equal to Demand\n",
        "c2 = m.addConstrs((x[i] <= Demand[i] for i in computer_type), name = 'cannot exceed maximum demand')\n",
        "\n",
        "# Assemble hours cannot exceed available\n",
        "c3 = m.addConstr((gp.quicksum(LaborAssembly[i]*x[i] for i in computer_type) <= TotalAssemblyhours), name = 'cannot exceed available assembly hours')\n",
        "\n",
        "# Testing hours cannot exceed available\n",
        "c4 = m.addConstr((gp.quicksum(LaborTesting[i]*x[i] for i in computer_type) <= TotalTestinghours), name ='cannot exceed available testing hours')"
      ],
      "metadata": {
        "id": "3srjzGBwxjNO"
      },
      "execution_count": null,
      "outputs": []
    },
    {
      "cell_type": "code",
      "source": [
        "# Run the optimize solver\n",
        "m.optimize()"
      ],
      "metadata": {
        "colab": {
          "base_uri": "https://localhost:8080/"
        },
        "id": "peovh9FGxk0l",
        "outputId": "77c12f01-801b-4067-eb0d-c9c71fdfaa56"
      },
      "execution_count": null,
      "outputs": [
        {
          "output_type": "stream",
          "name": "stdout",
          "text": [
            "Gurobi Optimizer version 12.0.0 build v12.0.0rc1 (linux64 - \"Ubuntu 22.04.3 LTS\")\n",
            "\n",
            "CPU model: AMD EPYC 7B12, instruction set [SSE2|AVX|AVX2]\n",
            "Thread count: 1 physical cores, 2 logical processors, using up to 2 threads\n",
            "\n",
            "Optimize a model with 6 rows, 2 columns and 8 nonzeros\n",
            "Model fingerprint: 0x3d53bcff\n",
            "Coefficient statistics:\n",
            "  Matrix range     [1e+00, 6e+00]\n",
            "  Objective range  [8e+01, 1e+02]\n",
            "  Bounds range     [0e+00, 0e+00]\n",
            "  RHS range        [6e+02, 1e+04]\n",
            "Presolve removed 5 rows and 0 columns\n",
            "Presolve time: 0.01s\n",
            "Presolved: 1 rows, 2 columns, 2 nonzeros\n",
            "\n",
            "Iteration    Objective       Primal Inf.    Dual Inf.      Time\n",
            "       0    2.1500000e+05   2.333333e+02   0.000000e+00      0s\n",
            "       1    1.9960000e+05   0.000000e+00   0.000000e+00      0s\n",
            "\n",
            "Solved in 1 iterations and 0.02 seconds (0.00 work units)\n",
            "Optimal objective  1.996000000e+05\n"
          ]
        }
      ]
    },
    {
      "cell_type": "code",
      "source": [
        "# Get the Optimal Solution for X\n",
        "print(\"The Optimal number of each computer type to be produced for maximum profit\\n\")\n",
        "m.printAttr('X')\n",
        "def comma_value(number):\n",
        "    return (\"{:,}\".format(number))\n",
        "# print(\"\\nTotal profit: $%8.2f\" % (m.ObjVal))\n",
        "print(\"\\nTotal profit: $\",comma_value(m.ObjVal))\n",
        "# m.printAttr('RHS')\n",
        "# m.printAttr('Slack')"
      ],
      "metadata": {
        "id": "Tsgltv7axmIW",
        "outputId": "d74652e6-21cd-471a-e30d-fb65b0185165",
        "colab": {
          "base_uri": "https://localhost:8080/"
        }
      },
      "execution_count": null,
      "outputs": [
        {
          "output_type": "stream",
          "name": "stdout",
          "text": [
            "The Optimal number of each computer type to be produced for maximum profit\n",
            "\n",
            "\n",
            "    Variable            X \n",
            "-------------------------\n",
            "       Basic          560 \n",
            "          XP         1200 \n",
            "\n",
            "Total profit: $ 199,600.0\n"
          ]
        }
      ]
    },
    {
      "cell_type": "code",
      "source": [
        "#Finding amount of Profit generated by computer type\n",
        "e = m.getObjective()\n",
        "margin = [e.getCoeff(i) for i in computer_type ]\n",
        "production = [v.x for v in m.getVars()]\n",
        "revenue = [margin[i]*production[i] for i in computer_type]\n",
        "for i in computer_type:\n",
        "  print(\"Profit generated by\",Computer_type_label[i],\"computer is $\",comma_value(revenue[i]))"
      ],
      "metadata": {
        "id": "bhNnTG9vxnwU",
        "outputId": "ab310eab-2e63-4c4f-f0c3-4a4ee3a19de1",
        "colab": {
          "base_uri": "https://localhost:8080/"
        }
      },
      "execution_count": null,
      "outputs": [
        {
          "output_type": "stream",
          "name": "stdout",
          "text": [
            "Profit generated by Basic computer is $ 44,800.0\n",
            "Profit generated by XP computer is $ 154,800.0\n"
          ]
        }
      ]
    },
    {
      "cell_type": "code",
      "source": [
        "#Finding the number of assembly hours used by computer type\n",
        "assembly_hour_used = [LaborAssembly[i]*production[i] for i in computer_type]\n",
        "for i in computer_type:\n",
        "  print(\"Number of Assembly hours used by\",Computer_type_label[i],\"computer is\",comma_value(assembly_hour_used[i]))\n",
        "\n",
        "print(\"Total Assembly hours used is\",comma_value(sum(assembly_hour_used)))"
      ],
      "metadata": {
        "id": "bfyrUM6SxpaI",
        "outputId": "2a3059ab-35d1-499e-8ce8-de98064e6612",
        "colab": {
          "base_uri": "https://localhost:8080/"
        }
      },
      "execution_count": null,
      "outputs": [
        {
          "output_type": "stream",
          "name": "stdout",
          "text": [
            "Number of Assembly hours used by Basic computer is 2,800.0\n",
            "Number of Assembly hours used by XP computer is 7,200.0\n",
            "Total Assembly hours used is 10,000.0\n"
          ]
        }
      ]
    },
    {
      "cell_type": "code",
      "source": [
        "#Finding the number of testing hours used by computer type\n",
        "testing_hour_used = [LaborTesting[i]*production[i] for i in computer_type]\n",
        "for i in computer_type:\n",
        "  print(\"Number of Testing hours used by\",Computer_type_label[i],\"computer is\",comma_value(testing_hour_used[i]))\n",
        "\n",
        "print(\"Total Testing hours\",comma_value(sum(testing_hour_used)))"
      ],
      "metadata": {
        "id": "y3qEqMJUxq1l",
        "outputId": "eb2593ca-e9e5-4e43-d453-99b39e7eab7e",
        "colab": {
          "base_uri": "https://localhost:8080/"
        }
      },
      "execution_count": null,
      "outputs": [
        {
          "output_type": "stream",
          "name": "stdout",
          "text": [
            "Number of Testing hours used by Basic computer is 560.0\n",
            "Number of Testing hours used by XP computer is 2,400.0\n",
            "Total Testing hours 2,960.0\n"
          ]
        }
      ]
    },
    {
      "cell_type": "code",
      "source": [],
      "metadata": {
        "id": "Hj29T58ZxskV"
      },
      "execution_count": null,
      "outputs": []
    }
  ]
}