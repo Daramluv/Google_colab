{
  "nbformat": 4,
  "nbformat_minor": 0,
  "metadata": {
    "colab": {
      "provenance": [],
      "authorship_tag": "ABX9TyM2md5t0y0hvUO+kD9VMIPb",
      "include_colab_link": true
    },
    "kernelspec": {
      "name": "python3",
      "display_name": "Python 3"
    },
    "language_info": {
      "name": "python"
    }
  },
  "cells": [
    {
      "cell_type": "markdown",
      "metadata": {
        "id": "view-in-github",
        "colab_type": "text"
      },
      "source": [
        "<a href=\"https://colab.research.google.com/github/Daramluv/Google_colab/blob/main/Customer_Churn_Prediction.ipynb\" target=\"_parent\"><img src=\"https://colab.research.google.com/assets/colab-badge.svg\" alt=\"Open In Colab\"/></a>"
      ]
    },
    {
      "cell_type": "code",
      "execution_count": null,
      "metadata": {
        "id": "kqq3iLQyDXc4"
      },
      "outputs": [],
      "source": [
        "import pandas as pd\n",
        "import numpy as np\n",
        "from sklearn.metrics import accuracy_score\n",
        "from sklearn.model_selection import train_test_split\n",
        "from sklearn.ensemble import RandomForestClassifier\n",
        "from sklearn.tree import DecisionTreeClassifier\n",
        "from sklearn.model_selection import GridSearchCV\n",
        "from sklearn.model_selection import RandomizedSearchCV\n",
        "from sklearn.model_selection import cross_val_score\n",
        "from sklearn.metrics import classification_report, confusion_matrix\n",
        "from sklearn.ensemble import GradientBoostingClassifier\n",
        "from sklearn.neural_network import MLPClassifier\n",
        "from imblearn.over_sampling import SMOTE\n",
        "from sklearn.svm import SVC\n",
        "from collections import Counter\n",
        "from sklearn.linear_model import LogisticRegression\n",
        "from sklearn.metrics import accuracy_score, precision_score, recall_score, f1_score\n",
        "from sklearn.model_selection import RandomizedSearchCV\n",
        "from sklearn.ensemble import StackingClassifier\n",
        "\n",
        "\n",
        "from sklearn.preprocessing import OneHotEncoder\n",
        "from sklearn.compose import ColumnTransformer\n",
        "\n",
        "import warnings\n",
        "warnings.filterwarnings(\"ignore\")"
      ]
    },
    {
      "cell_type": "code",
      "source": [
        "trainfile = r'/content/Cell Phone Churn-TRAIN.csv'\n",
        "train_data = pd.read_csv(trainfile)\n",
        "testfile = r'/content/Cell Phone Churn-TEST.csv'\n",
        "\n",
        "test_data = pd.read_csv(testfile)\n",
        "print(train_data.shape)\n",
        "print(train_data.head())\n",
        "print()\n",
        "print(test_data.shape)\n",
        "print(test_data.head())"
      ],
      "metadata": {
        "colab": {
          "base_uri": "https://localhost:8080/"
        },
        "id": "M9dE34JADrWM",
        "outputId": "5ff8cdba-fba5-4094-9327-28d0859bc856"
      },
      "execution_count": null,
      "outputs": [
        {
          "output_type": "stream",
          "name": "stdout",
          "text": [
            "(1695, 24)\n",
            "   MOUMO  MOUPMO  MOU3MO  MOUCH1M  MOUCH3M  CUM3MCH  CUSTMOS  LONGD  CALLW  \\\n",
            "0    105      15      99       90      -84        6       11      0      0   \n",
            "1    999    1200    1145     -201       55     -146        3      1      1   \n",
            "2      5       2       1        3        1        4       23      0      0   \n",
            "3    600     456     398      144       58      202       13      0      1   \n",
            "4      2       0       0        0        0        0        1      0      0   \n",
            "\n",
            "   LINES  ...  INCOME  SPORTS NATURE ARTS  HRS_TV         TRAVEL        EDUC  \\\n",
            "0      2  ...   51000       B      1    N      10            NaN   Bachelors   \n",
            "1      2  ...   80000       A      0    N      40       Domestic     Masters   \n",
            "2      1  ...   80000       C      0    Y      50  International  HighSchool   \n",
            "3      1  ...   88000       A      1    N       0  International     Masters   \n",
            "4      1  ...   29000       B      0    N      75       Domestic  HighSchool   \n",
            "\n",
            "  TOTMOU  TOTCHNG TARGET  \n",
            "0    219        6      0  \n",
            "1   3344     -146      1  \n",
            "2      8        4      1  \n",
            "3   1454      202      1  \n",
            "4      0        0      0  \n",
            "\n",
            "[5 rows x 24 columns]\n",
            "\n",
            "(375, 24)\n",
            "   MOUMO  MOUPMO  MOU3MO  MOUCH1M  MOUCH3M  CUM3MCH  CUSTMOS  LONGD  CALLW  \\\n",
            "0    344     232     455      112     -223     -111       11      1      1   \n",
            "1    555     444     678      111     -234     -123       27      1      1   \n",
            "2      2       0       4        1       -3       -2        4      0      0   \n",
            "3   5678    3457    2156     2221     1301     3522       14      1      1   \n",
            "4    333     122     144      211      -22      189        9      0      1   \n",
            "\n",
            "   LINES  ...  INCOME  SPORTS NATURE ARTS  HRS_TV         TRAVEL       EDUC  \\\n",
            "0      2  ...   75000       B      1    Y      25  InterGalactic        GED   \n",
            "1      2  ...  134000      na      1    Y       5       Domestic        PhD   \n",
            "2      1  ...   53000      na      1    Y     125            NaN  Bachelors   \n",
            "3      1  ...   33000       A      1    Y      25       Domestic    Masters   \n",
            "4      1  ...   44000       F      1    N      35  International    Masters   \n",
            "\n",
            "  TOTMOU  TOTCHNG TARGET  \n",
            "0   1031     -111      0  \n",
            "1   1677     -123      0  \n",
            "2      6       -2      0  \n",
            "3  11291     3522      0  \n",
            "4    599      189      1  \n",
            "\n",
            "[5 rows x 24 columns]\n"
          ]
        }
      ]
    },
    {
      "cell_type": "code",
      "source": [
        "categoricalFeatures = [\"TRAVEL\",\"EDUC\", \"CONVB\",\"SPORTS\", \"SEX\", 'ARTS']\n",
        "\n",
        "\n",
        "combined_data = pd.concat([train_data, test_data], keys=[0, 1])\n",
        "\n",
        "combined_data = pd.get_dummies(combined_data, columns=categoricalFeatures)\n",
        "print(combined_data['TARGET'])\n",
        "\n"
      ],
      "metadata": {
        "colab": {
          "base_uri": "https://localhost:8080/"
        },
        "id": "khl0SwmtEXps",
        "outputId": "e1cd4384-e0df-48fa-8540-1353a73453b0"
      },
      "execution_count": null,
      "outputs": [
        {
          "output_type": "stream",
          "name": "stdout",
          "text": [
            "0  0      0\n",
            "   1      1\n",
            "   2      1\n",
            "   3      1\n",
            "   4      0\n",
            "         ..\n",
            "1  370    0\n",
            "   371    1\n",
            "   372    0\n",
            "   373    1\n",
            "   374    1\n",
            "Name: TARGET, Length: 2070, dtype: int64\n"
          ]
        }
      ]
    },
    {
      "cell_type": "code",
      "source": [
        "#Extract Target Column before doing missing value substitutions and one-hot encoding======\n",
        "Target_Train_Cols = train_data[\"TARGET\"]#make copy of target column\n",
        "trainData = train_data.drop([\"TARGET\"], axis=1) #extracting training data without the target column"
      ],
      "metadata": {
        "id": "PRP5OGlhJIBa"
      },
      "execution_count": null,
      "outputs": []
    },
    {
      "cell_type": "code",
      "source": [
        "combined_Data = pd.concat([train_data, test_data], keys=[0,1])\n",
        "\n",
        "combined_Data.isnull().sum().sort_values(ascending=False)"
      ],
      "metadata": {
        "colab": {
          "base_uri": "https://localhost:8080/",
          "height": 837
        },
        "id": "4MQ8FzNnFCGB",
        "outputId": "8691aec2-1dae-4917-9c0f-9a02b5387170"
      },
      "execution_count": null,
      "outputs": [
        {
          "output_type": "execute_result",
          "data": {
            "text/plain": [
              "TRAVEL     360\n",
              "MOUMO        0\n",
              "MOUPMO       0\n",
              "TOTCHNG      0\n",
              "TOTMOU       0\n",
              "EDUC         0\n",
              "HRS_TV       0\n",
              "ARTS         0\n",
              "NATURE       0\n",
              "SPORTS       0\n",
              "INCOME       0\n",
              "SEX          0\n",
              "CONVB        0\n",
              "CELL         0\n",
              "VOICEM       0\n",
              "LINES        0\n",
              "CALLW        0\n",
              "LONGD        0\n",
              "CUSTMOS      0\n",
              "CUM3MCH      0\n",
              "MOUCH3M      0\n",
              "MOUCH1M      0\n",
              "MOU3MO       0\n",
              "TARGET       0\n",
              "dtype: int64"
            ],
            "text/html": [
              "<div>\n",
              "<style scoped>\n",
              "    .dataframe tbody tr th:only-of-type {\n",
              "        vertical-align: middle;\n",
              "    }\n",
              "\n",
              "    .dataframe tbody tr th {\n",
              "        vertical-align: top;\n",
              "    }\n",
              "\n",
              "    .dataframe thead th {\n",
              "        text-align: right;\n",
              "    }\n",
              "</style>\n",
              "<table border=\"1\" class=\"dataframe\">\n",
              "  <thead>\n",
              "    <tr style=\"text-align: right;\">\n",
              "      <th></th>\n",
              "      <th>0</th>\n",
              "    </tr>\n",
              "  </thead>\n",
              "  <tbody>\n",
              "    <tr>\n",
              "      <th>TRAVEL</th>\n",
              "      <td>360</td>\n",
              "    </tr>\n",
              "    <tr>\n",
              "      <th>MOUMO</th>\n",
              "      <td>0</td>\n",
              "    </tr>\n",
              "    <tr>\n",
              "      <th>MOUPMO</th>\n",
              "      <td>0</td>\n",
              "    </tr>\n",
              "    <tr>\n",
              "      <th>TOTCHNG</th>\n",
              "      <td>0</td>\n",
              "    </tr>\n",
              "    <tr>\n",
              "      <th>TOTMOU</th>\n",
              "      <td>0</td>\n",
              "    </tr>\n",
              "    <tr>\n",
              "      <th>EDUC</th>\n",
              "      <td>0</td>\n",
              "    </tr>\n",
              "    <tr>\n",
              "      <th>HRS_TV</th>\n",
              "      <td>0</td>\n",
              "    </tr>\n",
              "    <tr>\n",
              "      <th>ARTS</th>\n",
              "      <td>0</td>\n",
              "    </tr>\n",
              "    <tr>\n",
              "      <th>NATURE</th>\n",
              "      <td>0</td>\n",
              "    </tr>\n",
              "    <tr>\n",
              "      <th>SPORTS</th>\n",
              "      <td>0</td>\n",
              "    </tr>\n",
              "    <tr>\n",
              "      <th>INCOME</th>\n",
              "      <td>0</td>\n",
              "    </tr>\n",
              "    <tr>\n",
              "      <th>SEX</th>\n",
              "      <td>0</td>\n",
              "    </tr>\n",
              "    <tr>\n",
              "      <th>CONVB</th>\n",
              "      <td>0</td>\n",
              "    </tr>\n",
              "    <tr>\n",
              "      <th>CELL</th>\n",
              "      <td>0</td>\n",
              "    </tr>\n",
              "    <tr>\n",
              "      <th>VOICEM</th>\n",
              "      <td>0</td>\n",
              "    </tr>\n",
              "    <tr>\n",
              "      <th>LINES</th>\n",
              "      <td>0</td>\n",
              "    </tr>\n",
              "    <tr>\n",
              "      <th>CALLW</th>\n",
              "      <td>0</td>\n",
              "    </tr>\n",
              "    <tr>\n",
              "      <th>LONGD</th>\n",
              "      <td>0</td>\n",
              "    </tr>\n",
              "    <tr>\n",
              "      <th>CUSTMOS</th>\n",
              "      <td>0</td>\n",
              "    </tr>\n",
              "    <tr>\n",
              "      <th>CUM3MCH</th>\n",
              "      <td>0</td>\n",
              "    </tr>\n",
              "    <tr>\n",
              "      <th>MOUCH3M</th>\n",
              "      <td>0</td>\n",
              "    </tr>\n",
              "    <tr>\n",
              "      <th>MOUCH1M</th>\n",
              "      <td>0</td>\n",
              "    </tr>\n",
              "    <tr>\n",
              "      <th>MOU3MO</th>\n",
              "      <td>0</td>\n",
              "    </tr>\n",
              "    <tr>\n",
              "      <th>TARGET</th>\n",
              "      <td>0</td>\n",
              "    </tr>\n",
              "  </tbody>\n",
              "</table>\n",
              "</div><br><label><b>dtype:</b> int64</label>"
            ]
          },
          "metadata": {},
          "execution_count": 53
        }
      ]
    },
    {
      "cell_type": "code",
      "source": [
        "#Define threshold for dropping columns\n",
        "percent=int(0.6*(combined_Data.shape[0]))\n",
        "print(percent)\n",
        "#Drop columns that have less than \"thresh\" number of non_Nans\n",
        "td1=combined_Data.dropna(thresh=percent,axis=1)\n",
        "print(td1.shape)"
      ],
      "metadata": {
        "colab": {
          "base_uri": "https://localhost:8080/"
        },
        "id": "wfkL5HjbH0ad",
        "outputId": "a1295488-3a4b-4764-b607-fa2f237db1ab"
      },
      "execution_count": null,
      "outputs": [
        {
          "output_type": "stream",
          "name": "stdout",
          "text": [
            "1242\n",
            "(2070, 24)\n"
          ]
        }
      ]
    },
    {
      "cell_type": "code",
      "source": [
        "#look at what other columns have missing values\n",
        "td1.isnull().sum().sort_values(ascending=False)"
      ],
      "metadata": {
        "colab": {
          "base_uri": "https://localhost:8080/",
          "height": 837
        },
        "id": "UAk2VsGnH5a-",
        "outputId": "cb33f635-c196-4bc9-91f6-e1900f758a41"
      },
      "execution_count": null,
      "outputs": [
        {
          "output_type": "execute_result",
          "data": {
            "text/plain": [
              "TRAVEL     360\n",
              "MOUMO        0\n",
              "MOUPMO       0\n",
              "TOTCHNG      0\n",
              "TOTMOU       0\n",
              "EDUC         0\n",
              "HRS_TV       0\n",
              "ARTS         0\n",
              "NATURE       0\n",
              "SPORTS       0\n",
              "INCOME       0\n",
              "SEX          0\n",
              "CONVB        0\n",
              "CELL         0\n",
              "VOICEM       0\n",
              "LINES        0\n",
              "CALLW        0\n",
              "LONGD        0\n",
              "CUSTMOS      0\n",
              "CUM3MCH      0\n",
              "MOUCH3M      0\n",
              "MOUCH1M      0\n",
              "MOU3MO       0\n",
              "TARGET       0\n",
              "dtype: int64"
            ],
            "text/html": [
              "<div>\n",
              "<style scoped>\n",
              "    .dataframe tbody tr th:only-of-type {\n",
              "        vertical-align: middle;\n",
              "    }\n",
              "\n",
              "    .dataframe tbody tr th {\n",
              "        vertical-align: top;\n",
              "    }\n",
              "\n",
              "    .dataframe thead th {\n",
              "        text-align: right;\n",
              "    }\n",
              "</style>\n",
              "<table border=\"1\" class=\"dataframe\">\n",
              "  <thead>\n",
              "    <tr style=\"text-align: right;\">\n",
              "      <th></th>\n",
              "      <th>0</th>\n",
              "    </tr>\n",
              "  </thead>\n",
              "  <tbody>\n",
              "    <tr>\n",
              "      <th>TRAVEL</th>\n",
              "      <td>360</td>\n",
              "    </tr>\n",
              "    <tr>\n",
              "      <th>MOUMO</th>\n",
              "      <td>0</td>\n",
              "    </tr>\n",
              "    <tr>\n",
              "      <th>MOUPMO</th>\n",
              "      <td>0</td>\n",
              "    </tr>\n",
              "    <tr>\n",
              "      <th>TOTCHNG</th>\n",
              "      <td>0</td>\n",
              "    </tr>\n",
              "    <tr>\n",
              "      <th>TOTMOU</th>\n",
              "      <td>0</td>\n",
              "    </tr>\n",
              "    <tr>\n",
              "      <th>EDUC</th>\n",
              "      <td>0</td>\n",
              "    </tr>\n",
              "    <tr>\n",
              "      <th>HRS_TV</th>\n",
              "      <td>0</td>\n",
              "    </tr>\n",
              "    <tr>\n",
              "      <th>ARTS</th>\n",
              "      <td>0</td>\n",
              "    </tr>\n",
              "    <tr>\n",
              "      <th>NATURE</th>\n",
              "      <td>0</td>\n",
              "    </tr>\n",
              "    <tr>\n",
              "      <th>SPORTS</th>\n",
              "      <td>0</td>\n",
              "    </tr>\n",
              "    <tr>\n",
              "      <th>INCOME</th>\n",
              "      <td>0</td>\n",
              "    </tr>\n",
              "    <tr>\n",
              "      <th>SEX</th>\n",
              "      <td>0</td>\n",
              "    </tr>\n",
              "    <tr>\n",
              "      <th>CONVB</th>\n",
              "      <td>0</td>\n",
              "    </tr>\n",
              "    <tr>\n",
              "      <th>CELL</th>\n",
              "      <td>0</td>\n",
              "    </tr>\n",
              "    <tr>\n",
              "      <th>VOICEM</th>\n",
              "      <td>0</td>\n",
              "    </tr>\n",
              "    <tr>\n",
              "      <th>LINES</th>\n",
              "      <td>0</td>\n",
              "    </tr>\n",
              "    <tr>\n",
              "      <th>CALLW</th>\n",
              "      <td>0</td>\n",
              "    </tr>\n",
              "    <tr>\n",
              "      <th>LONGD</th>\n",
              "      <td>0</td>\n",
              "    </tr>\n",
              "    <tr>\n",
              "      <th>CUSTMOS</th>\n",
              "      <td>0</td>\n",
              "    </tr>\n",
              "    <tr>\n",
              "      <th>CUM3MCH</th>\n",
              "      <td>0</td>\n",
              "    </tr>\n",
              "    <tr>\n",
              "      <th>MOUCH3M</th>\n",
              "      <td>0</td>\n",
              "    </tr>\n",
              "    <tr>\n",
              "      <th>MOUCH1M</th>\n",
              "      <td>0</td>\n",
              "    </tr>\n",
              "    <tr>\n",
              "      <th>MOU3MO</th>\n",
              "      <td>0</td>\n",
              "    </tr>\n",
              "    <tr>\n",
              "      <th>TARGET</th>\n",
              "      <td>0</td>\n",
              "    </tr>\n",
              "  </tbody>\n",
              "</table>\n",
              "</div><br><label><b>dtype:</b> int64</label>"
            ]
          },
          "metadata": {},
          "execution_count": 55
        }
      ]
    },
    {
      "cell_type": "code",
      "source": [
        "#NOW IMPUTE MISSING VALUES FOR THE OTHER COLUMNS=========================\n",
        "#IMPUTE (SUBSTITUTE) MEAN VALUES FOR NaN IN NUMERIC COLUMNS\n",
        "numeric=td1.select_dtypes(include=['int','float64']).columns\n",
        "for num in numeric:\n",
        "  td1[num]=td1[num].fillna(td1[num].mean())\n",
        "\n",
        "#IMPUTE (SUBSTITUTE) MODE VALUES FOR NaN IN CATEGORICAL COLUMNS\n",
        "train_cat_cols = td1.select_dtypes(exclude=['int','float64']).columns#selecting the categorical columns\n",
        "for colss in train_cat_cols:\n",
        "  if(td1.iloc[0][colss]==\"N\"):\n",
        "        td1[colss]=td1[colss].fillna(\"N\")\n",
        "  else:\n",
        "    td1[colss]=td1[colss].fillna(td1[colss].mode())\n",
        "\n",
        "print(td1.head(20))\n"
      ],
      "metadata": {
        "colab": {
          "base_uri": "https://localhost:8080/"
        },
        "id": "b7Hcepi9H7ud",
        "outputId": "918ea9e0-1fb1-402e-e40e-953dcabe3efb"
      },
      "execution_count": null,
      "outputs": [
        {
          "output_type": "stream",
          "name": "stdout",
          "text": [
            "      MOUMO  MOUPMO  MOU3MO  MOUCH1M  MOUCH3M  CUM3MCH  CUSTMOS  LONGD  CALLW  \\\n",
            "0 0     105      15      99       90      -84        6       11      0      0   \n",
            "  1     999    1200    1145     -201       55     -146        3      1      1   \n",
            "  2       5       2       1        3        1        4       23      0      0   \n",
            "  3     600     456     398      144       58      202       13      0      1   \n",
            "  4       2       0       0        0        0        0        1      0      0   \n",
            "  5     678    1222     598     -544      624       80       30      1      1   \n",
            "  6     110      98      56       12       42       54       15      1      0   \n",
            "  7      97      56      97       41      -41        0        8      0      0   \n",
            "  8      45      23      66       22      -43      -21       44      0      0   \n",
            "  9      53      34      29       19        5       24       50      1      1   \n",
            "  10      1       2       0       -1        0        0        2      0      0   \n",
            "  11   5000    7000      75    -2000     6925     4925        6      1      0   \n",
            "  12    100     190      60      -90      130       40       10      1      0   \n",
            "  13     10      20      50      -10      -30      -40        3      1      0   \n",
            "  14   1004     800     944      204     -144       60       26      1      1   \n",
            "  15    550     100    1453      450    -1353     -903       17      1      1   \n",
            "  16    398    2452    4789    -2054    -2337    -4391       36      0      0   \n",
            "  17     78      54      24       24       30       54        6      1      0   \n",
            "  18    105       7      99       98      -92        6       11      0      0   \n",
            "  19      5       2       1        3        1        4       23      0      0   \n",
            "\n",
            "      LINES  ...  INCOME  SPORTS NATURE ARTS  HRS_TV         TRAVEL  \\\n",
            "0 0       2  ...   51000       B      1    N      10            NaN   \n",
            "  1       2  ...   80000       A      0    N      40       Domestic   \n",
            "  2       1  ...   80000       C      0    Y      50  International   \n",
            "  3       1  ...   88000       A      1    N       0  International   \n",
            "  4       1  ...   29000       B      0    N      75       Domestic   \n",
            "  5       2  ...   46000       E      1    Y      60  International   \n",
            "  6       1  ...   98000       E      0    Y      50  InterGalactic   \n",
            "  7       1  ...  125000      na      0    N       5       Domestic   \n",
            "  8       1  ...   91000       D      1    N       0  International   \n",
            "  9       1  ...   48000      na      1    Y      20            NaN   \n",
            "  10      1  ...   17000       F      1    Y      70       Domestic   \n",
            "  11      1  ...   39000       F      0    Y     100  International   \n",
            "  12      2  ...   50000       B      0    N      70       Domestic   \n",
            "  13      1  ...   75000       B      1    Y       0  International   \n",
            "  14      3  ...  225000       C      0    N       5            NaN   \n",
            "  15      1  ...  320000       D      0    Y      50  InterGalactic   \n",
            "  16      2  ...  145000       E      1    N      40       Domestic   \n",
            "  17      1  ...   66000       A      0    N      20  International   \n",
            "  18      2  ...   51000       B      1    N      10            NaN   \n",
            "  19      1  ...   80000       C      0    Y      50  International   \n",
            "\n",
            "            EDUC TOTMOU  TOTCHNG TARGET  \n",
            "0 0    Bachelors    219        6      0  \n",
            "  1      Masters   3344     -146      1  \n",
            "  2   HighSchool      8        4      1  \n",
            "  3      Masters   1454      202      1  \n",
            "  4   HighSchool      0        0      0  \n",
            "  5   HighSchool   2498       80      1  \n",
            "  6   HighSchool    264       54      0  \n",
            "  7   HighSchool    250        0      0  \n",
            "  8          PhD    134      -21      0  \n",
            "  9          GED    116       24      1  \n",
            "  10   Bachelors      0        0      0  \n",
            "  11  HighSchool  12075     4925      1  \n",
            "  12  Elementary    350       40      1  \n",
            "  13         PhD     80      -40      0  \n",
            "  14         PhD   2748       60      0  \n",
            "  15         GED   2103     -903      0  \n",
            "  16  HighSchool   7639    -4391      0  \n",
            "  17   Bachelors    156       54      1  \n",
            "  18   Bachelors    211        6      0  \n",
            "  19  HighSchool      8        4      0  \n",
            "\n",
            "[20 rows x 24 columns]\n"
          ]
        }
      ]
    },
    {
      "cell_type": "code",
      "source": [
        "#CHECK IF THERE ARE ANY REMAINING MISSING VALUES\n",
        "td1.isnull().sum().sort_values(ascending=False)"
      ],
      "metadata": {
        "colab": {
          "base_uri": "https://localhost:8080/",
          "height": 837
        },
        "id": "_iy4Al_sIDlv",
        "outputId": "7935aa89-41ff-4b09-95b7-4cc5eb66a54b"
      },
      "execution_count": null,
      "outputs": [
        {
          "output_type": "execute_result",
          "data": {
            "text/plain": [
              "TRAVEL     360\n",
              "MOUMO        0\n",
              "MOUPMO       0\n",
              "TOTCHNG      0\n",
              "TOTMOU       0\n",
              "EDUC         0\n",
              "HRS_TV       0\n",
              "ARTS         0\n",
              "NATURE       0\n",
              "SPORTS       0\n",
              "INCOME       0\n",
              "SEX          0\n",
              "CONVB        0\n",
              "CELL         0\n",
              "VOICEM       0\n",
              "LINES        0\n",
              "CALLW        0\n",
              "LONGD        0\n",
              "CUSTMOS      0\n",
              "CUM3MCH      0\n",
              "MOUCH3M      0\n",
              "MOUCH1M      0\n",
              "MOU3MO       0\n",
              "TARGET       0\n",
              "dtype: int64"
            ],
            "text/html": [
              "<div>\n",
              "<style scoped>\n",
              "    .dataframe tbody tr th:only-of-type {\n",
              "        vertical-align: middle;\n",
              "    }\n",
              "\n",
              "    .dataframe tbody tr th {\n",
              "        vertical-align: top;\n",
              "    }\n",
              "\n",
              "    .dataframe thead th {\n",
              "        text-align: right;\n",
              "    }\n",
              "</style>\n",
              "<table border=\"1\" class=\"dataframe\">\n",
              "  <thead>\n",
              "    <tr style=\"text-align: right;\">\n",
              "      <th></th>\n",
              "      <th>0</th>\n",
              "    </tr>\n",
              "  </thead>\n",
              "  <tbody>\n",
              "    <tr>\n",
              "      <th>TRAVEL</th>\n",
              "      <td>360</td>\n",
              "    </tr>\n",
              "    <tr>\n",
              "      <th>MOUMO</th>\n",
              "      <td>0</td>\n",
              "    </tr>\n",
              "    <tr>\n",
              "      <th>MOUPMO</th>\n",
              "      <td>0</td>\n",
              "    </tr>\n",
              "    <tr>\n",
              "      <th>TOTCHNG</th>\n",
              "      <td>0</td>\n",
              "    </tr>\n",
              "    <tr>\n",
              "      <th>TOTMOU</th>\n",
              "      <td>0</td>\n",
              "    </tr>\n",
              "    <tr>\n",
              "      <th>EDUC</th>\n",
              "      <td>0</td>\n",
              "    </tr>\n",
              "    <tr>\n",
              "      <th>HRS_TV</th>\n",
              "      <td>0</td>\n",
              "    </tr>\n",
              "    <tr>\n",
              "      <th>ARTS</th>\n",
              "      <td>0</td>\n",
              "    </tr>\n",
              "    <tr>\n",
              "      <th>NATURE</th>\n",
              "      <td>0</td>\n",
              "    </tr>\n",
              "    <tr>\n",
              "      <th>SPORTS</th>\n",
              "      <td>0</td>\n",
              "    </tr>\n",
              "    <tr>\n",
              "      <th>INCOME</th>\n",
              "      <td>0</td>\n",
              "    </tr>\n",
              "    <tr>\n",
              "      <th>SEX</th>\n",
              "      <td>0</td>\n",
              "    </tr>\n",
              "    <tr>\n",
              "      <th>CONVB</th>\n",
              "      <td>0</td>\n",
              "    </tr>\n",
              "    <tr>\n",
              "      <th>CELL</th>\n",
              "      <td>0</td>\n",
              "    </tr>\n",
              "    <tr>\n",
              "      <th>VOICEM</th>\n",
              "      <td>0</td>\n",
              "    </tr>\n",
              "    <tr>\n",
              "      <th>LINES</th>\n",
              "      <td>0</td>\n",
              "    </tr>\n",
              "    <tr>\n",
              "      <th>CALLW</th>\n",
              "      <td>0</td>\n",
              "    </tr>\n",
              "    <tr>\n",
              "      <th>LONGD</th>\n",
              "      <td>0</td>\n",
              "    </tr>\n",
              "    <tr>\n",
              "      <th>CUSTMOS</th>\n",
              "      <td>0</td>\n",
              "    </tr>\n",
              "    <tr>\n",
              "      <th>CUM3MCH</th>\n",
              "      <td>0</td>\n",
              "    </tr>\n",
              "    <tr>\n",
              "      <th>MOUCH3M</th>\n",
              "      <td>0</td>\n",
              "    </tr>\n",
              "    <tr>\n",
              "      <th>MOUCH1M</th>\n",
              "      <td>0</td>\n",
              "    </tr>\n",
              "    <tr>\n",
              "      <th>MOU3MO</th>\n",
              "      <td>0</td>\n",
              "    </tr>\n",
              "    <tr>\n",
              "      <th>TARGET</th>\n",
              "      <td>0</td>\n",
              "    </tr>\n",
              "  </tbody>\n",
              "</table>\n",
              "</div><br><label><b>dtype:</b> int64</label>"
            ]
          },
          "metadata": {},
          "execution_count": 57
        }
      ]
    },
    {
      "cell_type": "code",
      "source": [
        "#DROP COLUMNS THAT STILL HAVE NULL VALUES\n",
        "print(td1.shape)\n",
        "td1=td1.drop(columns=[\"TRAVEL\"])\n",
        "td1.isnull().sum()\n",
        "print(td1.shape)"
      ],
      "metadata": {
        "colab": {
          "base_uri": "https://localhost:8080/"
        },
        "id": "zCVXFI3GIJEQ",
        "outputId": "1a28a777-9167-440f-b47a-d2afeaefe075"
      },
      "execution_count": null,
      "outputs": [
        {
          "output_type": "stream",
          "name": "stdout",
          "text": [
            "(2070, 24)\n",
            "(2070, 23)\n"
          ]
        }
      ]
    },
    {
      "cell_type": "code",
      "source": [
        "td1.isnull().sum().sort_values(ascending=False)"
      ],
      "metadata": {
        "colab": {
          "base_uri": "https://localhost:8080/",
          "height": 805
        },
        "id": "J57c9Y8XIek2",
        "outputId": "ec70f5c4-644b-4d87-a2b1-9b80c24aa335"
      },
      "execution_count": null,
      "outputs": [
        {
          "output_type": "execute_result",
          "data": {
            "text/plain": [
              "MOUMO      0\n",
              "CONVB      0\n",
              "TOTCHNG    0\n",
              "TOTMOU     0\n",
              "EDUC       0\n",
              "HRS_TV     0\n",
              "ARTS       0\n",
              "NATURE     0\n",
              "SPORTS     0\n",
              "INCOME     0\n",
              "SEX        0\n",
              "CELL       0\n",
              "MOUPMO     0\n",
              "VOICEM     0\n",
              "LINES      0\n",
              "CALLW      0\n",
              "LONGD      0\n",
              "CUSTMOS    0\n",
              "CUM3MCH    0\n",
              "MOUCH3M    0\n",
              "MOUCH1M    0\n",
              "MOU3MO     0\n",
              "TARGET     0\n",
              "dtype: int64"
            ],
            "text/html": [
              "<div>\n",
              "<style scoped>\n",
              "    .dataframe tbody tr th:only-of-type {\n",
              "        vertical-align: middle;\n",
              "    }\n",
              "\n",
              "    .dataframe tbody tr th {\n",
              "        vertical-align: top;\n",
              "    }\n",
              "\n",
              "    .dataframe thead th {\n",
              "        text-align: right;\n",
              "    }\n",
              "</style>\n",
              "<table border=\"1\" class=\"dataframe\">\n",
              "  <thead>\n",
              "    <tr style=\"text-align: right;\">\n",
              "      <th></th>\n",
              "      <th>0</th>\n",
              "    </tr>\n",
              "  </thead>\n",
              "  <tbody>\n",
              "    <tr>\n",
              "      <th>MOUMO</th>\n",
              "      <td>0</td>\n",
              "    </tr>\n",
              "    <tr>\n",
              "      <th>CONVB</th>\n",
              "      <td>0</td>\n",
              "    </tr>\n",
              "    <tr>\n",
              "      <th>TOTCHNG</th>\n",
              "      <td>0</td>\n",
              "    </tr>\n",
              "    <tr>\n",
              "      <th>TOTMOU</th>\n",
              "      <td>0</td>\n",
              "    </tr>\n",
              "    <tr>\n",
              "      <th>EDUC</th>\n",
              "      <td>0</td>\n",
              "    </tr>\n",
              "    <tr>\n",
              "      <th>HRS_TV</th>\n",
              "      <td>0</td>\n",
              "    </tr>\n",
              "    <tr>\n",
              "      <th>ARTS</th>\n",
              "      <td>0</td>\n",
              "    </tr>\n",
              "    <tr>\n",
              "      <th>NATURE</th>\n",
              "      <td>0</td>\n",
              "    </tr>\n",
              "    <tr>\n",
              "      <th>SPORTS</th>\n",
              "      <td>0</td>\n",
              "    </tr>\n",
              "    <tr>\n",
              "      <th>INCOME</th>\n",
              "      <td>0</td>\n",
              "    </tr>\n",
              "    <tr>\n",
              "      <th>SEX</th>\n",
              "      <td>0</td>\n",
              "    </tr>\n",
              "    <tr>\n",
              "      <th>CELL</th>\n",
              "      <td>0</td>\n",
              "    </tr>\n",
              "    <tr>\n",
              "      <th>MOUPMO</th>\n",
              "      <td>0</td>\n",
              "    </tr>\n",
              "    <tr>\n",
              "      <th>VOICEM</th>\n",
              "      <td>0</td>\n",
              "    </tr>\n",
              "    <tr>\n",
              "      <th>LINES</th>\n",
              "      <td>0</td>\n",
              "    </tr>\n",
              "    <tr>\n",
              "      <th>CALLW</th>\n",
              "      <td>0</td>\n",
              "    </tr>\n",
              "    <tr>\n",
              "      <th>LONGD</th>\n",
              "      <td>0</td>\n",
              "    </tr>\n",
              "    <tr>\n",
              "      <th>CUSTMOS</th>\n",
              "      <td>0</td>\n",
              "    </tr>\n",
              "    <tr>\n",
              "      <th>CUM3MCH</th>\n",
              "      <td>0</td>\n",
              "    </tr>\n",
              "    <tr>\n",
              "      <th>MOUCH3M</th>\n",
              "      <td>0</td>\n",
              "    </tr>\n",
              "    <tr>\n",
              "      <th>MOUCH1M</th>\n",
              "      <td>0</td>\n",
              "    </tr>\n",
              "    <tr>\n",
              "      <th>MOU3MO</th>\n",
              "      <td>0</td>\n",
              "    </tr>\n",
              "    <tr>\n",
              "      <th>TARGET</th>\n",
              "      <td>0</td>\n",
              "    </tr>\n",
              "  </tbody>\n",
              "</table>\n",
              "</div><br><label><b>dtype:</b> int64</label>"
            ]
          },
          "metadata": {},
          "execution_count": 59
        }
      ]
    },
    {
      "cell_type": "code",
      "source": [
        "#Separate Train data and test data\n",
        "X_train = combined_Data.xs(0)\n",
        "X_test = combined_Data.xs(1)\n",
        "y_train=X_train[\"TARGET\"]\n",
        "y_test=X_test[\"TARGET\"]\n",
        "X_train1=X_train.iloc[:, :-1].copy()\n",
        "X_test1=X_test.iloc[:, :-1].copy()"
      ],
      "metadata": {
        "id": "VVsRFSYULgby"
      },
      "execution_count": null,
      "outputs": []
    },
    {
      "cell_type": "code",
      "source": [
        "\n",
        "#Separate Train data and test data\n",
        "X_train = combined_data.xs(0)\n",
        "X_test = combined_data.xs(1)\n",
        "\n",
        "print(X_train.shape)\n",
        "print(X_test.shape)\n",
        "\n",
        "y_train=X_train[\"TARGET\"]\n",
        "y_test=X_test[\"TARGET\"]\n",
        "\n",
        "\n",
        "X_train = X_train.drop('TARGET',axis=1)\n",
        "X_test = X_test.drop('TARGET',axis=1)\n",
        "\n",
        "print(X_train.shape)\n",
        "print(X_test.shape)"
      ],
      "metadata": {
        "colab": {
          "base_uri": "https://localhost:8080/"
        },
        "id": "BXJ1Za5cIkE6",
        "outputId": "a2f712b2-bd72-4b3d-9d99-a864ef92f8ae"
      },
      "execution_count": null,
      "outputs": [
        {
          "output_type": "stream",
          "name": "stdout",
          "text": [
            "(1695, 40)\n",
            "(375, 40)\n",
            "(1695, 39)\n",
            "(375, 39)\n"
          ]
        }
      ]
    },
    {
      "cell_type": "code",
      "source": [
        "#Decision Tree, Random Forest, Logistic Regression, SVM model result\n",
        "models = {\n",
        "    'Decision Tree': DecisionTreeClassifier(random_state=42),\n",
        "    'Random Forest': RandomForestClassifier(random_state=42),\n",
        "    'Logistic Regression': LogisticRegression(max_iter=1000, random_state=42),\n",
        "    'SVM': SVC(random_state=42)\n",
        "}\n",
        "\n",
        "results = []\n",
        "\n",
        "for model_name, model in models.items():\n",
        "    model.fit(X_train, y_train)\n",
        "    y_pred = model.predict(X_test)\n",
        "    results.append({\n",
        "        'Model': model_name,\n",
        "        'Accuracy': accuracy_score(y_test, y_pred),\n",
        "        'Precision': precision_score(y_test, y_pred),\n",
        "        'Recall': recall_score(y_test, y_pred),\n",
        "        'F1 Score': f1_score(y_test, y_pred)\n",
        "    })\n",
        "\n",
        "for result in results:\n",
        "    print(result)"
      ],
      "metadata": {
        "colab": {
          "base_uri": "https://localhost:8080/"
        },
        "id": "_s55o75-KgEj",
        "outputId": "8b23628c-13c6-4deb-c130-5e0e66265330"
      },
      "execution_count": null,
      "outputs": [
        {
          "output_type": "stream",
          "name": "stdout",
          "text": [
            "{'Model': 'Decision Tree', 'Accuracy': 0.9946666666666667, 'Precision': 1.0, 'Recall': 0.9857142857142858, 'F1 Score': 0.9928057553956835}\n",
            "{'Model': 'Random Forest', 'Accuracy': 0.9946666666666667, 'Precision': 1.0, 'Recall': 0.9857142857142858, 'F1 Score': 0.9928057553956835}\n",
            "{'Model': 'Logistic Regression', 'Accuracy': 0.9653333333333334, 'Precision': 0.9774436090225563, 'Recall': 0.9285714285714286, 'F1 Score': 0.9523809523809523}\n",
            "{'Model': 'SVM', 'Accuracy': 0.6506666666666666, 'Precision': 0.6666666666666666, 'Recall': 0.12857142857142856, 'F1 Score': 0.2155688622754491}\n"
          ]
        }
      ]
    },
    {
      "cell_type": "code",
      "source": [
        "# hyperparameter tuning done for decision tree\n",
        "param_distributions = {\n",
        "    'max_depth': [None, 10, 20, 30, 40],\n",
        "    'min_samples_split': [2, 5, 10, 20],\n",
        "    'min_samples_leaf': [1, 2, 4, 10],\n",
        "    'criterion': ['gini', 'entropy']\n",
        "}\n",
        "\n",
        "decision_tree = DecisionTreeClassifier(random_state=42)\n",
        "\n",
        "# RandomizedSearchCV\n",
        "random_search = RandomizedSearchCV(\n",
        "    estimator=decision_tree,\n",
        "    param_distributions=param_distributions,\n",
        "    n_iter=50,\n",
        "    scoring='f1',\n",
        "    cv=5,\n",
        "    random_state=42,\n",
        "    n_jobs=-1\n",
        ")\n",
        "\n",
        "random_search.fit(X_train, y_train)\n",
        "\n",
        "best_params = random_search.best_params_\n",
        "print(\"Best Parameters:\", best_params)\n",
        "\n",
        "best_model = random_search.best_estimator_\n",
        "y_pred_tuned = best_model.predict(X_test)\n",
        "\n",
        "tuned_results = {\n",
        "    'Model': 'Decision Tree (Tuned)',\n",
        "    'Accuracy': accuracy_score(y_test, y_pred_tuned),\n",
        "    'Precision': precision_score(y_test, y_pred_tuned),\n",
        "    'Recall': recall_score(y_test, y_pred_tuned),\n",
        "    'F1 Score': f1_score(y_test, y_pred_tuned)\n",
        "}\n",
        "print(tuned_results)\n"
      ],
      "metadata": {
        "colab": {
          "base_uri": "https://localhost:8080/"
        },
        "id": "CKXc-AetN-_8",
        "outputId": "5927aa78-90da-4ea6-d6b2-a685994b5383"
      },
      "execution_count": null,
      "outputs": [
        {
          "output_type": "stream",
          "name": "stdout",
          "text": [
            "Best Parameters: {'min_samples_split': 5, 'min_samples_leaf': 4, 'max_depth': 10, 'criterion': 'entropy'}\n",
            "{'Model': 'Decision Tree (Tuned)', 'Accuracy': 0.9946666666666667, 'Precision': 1.0, 'Recall': 0.9857142857142858, 'F1 Score': 0.9928057553956835}\n"
          ]
        }
      ]
    },
    {
      "cell_type": "code",
      "source": [
        "#Construct a Decision Tree classifier with the best parameters found\n",
        "best_params = random_search.best_params_\n",
        "print(\"Best Parameters:\", best_params)\n",
        "\n",
        "final_decision_tree = DecisionTreeClassifier(**best_params, random_state=42)\n",
        "\n",
        "final_decision_tree.fit(X_train, y_train)\n",
        "\n",
        "y_pred_final = final_decision_tree.predict(X_test)\n",
        "\n",
        "final_results = {\n",
        "    'Model': 'Decision Tree (Best Params)',\n",
        "    'Accuracy': accuracy_score(y_test, y_pred_final),\n",
        "    'Precision': precision_score(y_test, y_pred_final),\n",
        "    'Recall': recall_score(y_test, y_pred_final),\n",
        "    'F1 Score': f1_score(y_test, y_pred_final)\n",
        "}\n",
        "print(\"Final Decision Tree Results:\", final_results)\n"
      ],
      "metadata": {
        "colab": {
          "base_uri": "https://localhost:8080/"
        },
        "id": "wibGrL2NNuOo",
        "outputId": "260e3ee2-8862-4bff-968e-f0f63b96796d"
      },
      "execution_count": null,
      "outputs": [
        {
          "output_type": "stream",
          "name": "stdout",
          "text": [
            "Best Parameters: {'min_samples_split': 5, 'min_samples_leaf': 4, 'max_depth': 10, 'criterion': 'entropy'}\n",
            "Final Decision Tree Results: {'Model': 'Decision Tree (Best Params)', 'Accuracy': 0.9946666666666667, 'Precision': 1.0, 'Recall': 0.9857142857142858, 'F1 Score': 0.9928057553956835}\n"
          ]
        }
      ]
    },
    {
      "cell_type": "code",
      "source": [
        "#compare default decisoin tree model and tuned decision tree model\n",
        "default_results = {\n",
        "    'Model': 'Decision Tree (Default)',\n",
        "    'Accuracy': 0.94,\n",
        "    'Precision': 0.97,\n",
        "    'Recall': 0.96,\n",
        "    'F1 Score': 0.96\n",
        "\n",
        "tuned_results = {\n",
        "    'Model': 'Decision Tree (Tuned)',\n",
        "    'Accuracy': accuracy_score(y_test, y_pred_final),\n",
        "    'Precision': precision_score(y_test, y_pred_final),\n",
        "    'Recall': recall_score(y_test, y_pred_final),\n",
        "    'F1 Score': f1_score(y_test, y_pred_final)\n",
        "}\n",
        "\n",
        "comparison = [default_results, tuned_results]\n",
        "for result in comparison:\n",
        "    print(result)\n"
      ],
      "metadata": {
        "colab": {
          "base_uri": "https://localhost:8080/"
        },
        "id": "WOU9AsT9PDWq",
        "outputId": "7609e44d-fbd4-418c-ded3-6e59ef374736"
      },
      "execution_count": null,
      "outputs": [
        {
          "output_type": "stream",
          "name": "stdout",
          "text": [
            "{'Model': 'Decision Tree (Default)', 'Accuracy': 0.94, 'Precision': 0.97, 'Recall': 0.96, 'F1 Score': 0.96}\n",
            "{'Model': 'Decision Tree (Tuned)', 'Accuracy': 0.9946666666666667, 'Precision': 1.0, 'Recall': 0.9857142857142858, 'F1 Score': 0.9928057553956835}\n"
          ]
        }
      ]
    },
    {
      "cell_type": "code",
      "source": [
        "# feature_importances\n",
        "importances = final_decision_tree.feature_importances_\n",
        "features = X_train.columns\n",
        "\n",
        "feature_importance = sorted(zip(importances, features), reverse=True)\n",
        "\n",
        "top_5_features = feature_importance[:5]\n",
        "\n",
        "print(\"Top 5 Features:\")\n",
        "for importance, feature in top_5_features:\n",
        "    print(f\"{feature}: {importance:.4f}\")\n"
      ],
      "metadata": {
        "colab": {
          "base_uri": "https://localhost:8080/"
        },
        "id": "WwmB7-gXPzRO",
        "outputId": "fd65c8f7-feef-47d4-ba7f-2c3cfcc40051"
      },
      "execution_count": null,
      "outputs": [
        {
          "output_type": "stream",
          "name": "stdout",
          "text": [
            "Top 5 Features:\n",
            "MOUCH3M: 0.4490\n",
            "INCOME: 0.2474\n",
            "CONVB_Yes: 0.0611\n",
            "TRAVEL_InterGalactic: 0.0554\n",
            "MOUPMO: 0.0542\n"
          ]
        }
      ]
    },
    {
      "cell_type": "code",
      "source": [
        "#ensemble predictions\n",
        "estimators = [\n",
        "    ('dt', DecisionTreeClassifier(random_state=42)),\n",
        "    ('rf', RandomForestClassifier(random_state=42)),\n",
        "    ('lr', LogisticRegression(max_iter=1000, random_state=42)),\n",
        "    ('svm', SVC(probability=True, random_state=42))\n",
        "]\n",
        "\n",
        "stacking_clf = StackingClassifier(\n",
        "    estimators=estimators,\n",
        "    final_estimator=RandomForestClassifier(random_state=42),\n",
        "    cv=5\n",
        ")\n",
        "\n",
        "stacking_clf.fit(X_train, y_train)\n",
        "\n",
        "y_pred_stack = stacking_clf.predict(X_test)\n",
        "\n",
        "stacking_results = {\n",
        "    'Model': 'Stacking Classifier',\n",
        "    'Accuracy': accuracy_score(y_test, y_pred_stack),\n",
        "    'Precision': precision_score(y_test, y_pred_stack),\n",
        "    'Recall': recall_score(y_test, y_pred_stack),\n",
        "    'F1 Score': f1_score(y_test, y_pred_stack)\n",
        "}\n",
        "\n",
        "print(\"Stacking Results:\", stacking_results)"
      ],
      "metadata": {
        "colab": {
          "base_uri": "https://localhost:8080/"
        },
        "id": "1r2u5WWhQ2Zg",
        "outputId": "e8e1d257-8119-45f9-d57d-44e036a4a769"
      },
      "execution_count": null,
      "outputs": [
        {
          "output_type": "stream",
          "name": "stdout",
          "text": [
            "Stacking Results: {'Model': 'Stacking Classifier', 'Accuracy': 0.9946666666666667, 'Precision': 1.0, 'Recall': 0.9857142857142858, 'F1 Score': 0.9928057553956835}\n"
          ]
        }
      ]
    },
    {
      "cell_type": "code",
      "source": [
        "#"
      ],
      "metadata": {
        "id": "Vr3KdTnZR2Ba"
      },
      "execution_count": null,
      "outputs": []
    },
    {
      "cell_type": "code",
      "source": [
        "#"
      ],
      "metadata": {
        "id": "vokuS8SlVD5a"
      },
      "execution_count": null,
      "outputs": []
    },
    {
      "cell_type": "code",
      "source": [
        "#END"
      ],
      "metadata": {
        "id": "psI-GKDYVFNf"
      },
      "execution_count": null,
      "outputs": []
    },
    {
      "cell_type": "code",
      "source": [
        "#"
      ],
      "metadata": {
        "id": "ftS0wopQVGmt"
      },
      "execution_count": null,
      "outputs": []
    },
    {
      "cell_type": "code",
      "source": [
        "#"
      ],
      "metadata": {
        "id": "H5hBBgBsVWSz"
      },
      "execution_count": null,
      "outputs": []
    },
    {
      "cell_type": "code",
      "source": [
        "#"
      ],
      "metadata": {
        "id": "CcWqVP2iVWwK"
      },
      "execution_count": null,
      "outputs": []
    },
    {
      "cell_type": "code",
      "source": [
        "#"
      ],
      "metadata": {
        "id": "FWKqhhS0VXIl"
      },
      "execution_count": null,
      "outputs": []
    },
    {
      "cell_type": "code",
      "source": [
        "#"
      ],
      "metadata": {
        "id": "_BLHijapVXeg"
      },
      "execution_count": null,
      "outputs": []
    },
    {
      "cell_type": "code",
      "source": [
        "#"
      ],
      "metadata": {
        "id": "rUjedtVDVXyk"
      },
      "execution_count": null,
      "outputs": []
    },
    {
      "cell_type": "code",
      "source": [
        "#"
      ],
      "metadata": {
        "id": "d_PC2r60VcC2"
      },
      "execution_count": null,
      "outputs": []
    },
    {
      "cell_type": "code",
      "source": [
        "#"
      ],
      "metadata": {
        "id": "1KLfvBG6Vcbt"
      },
      "execution_count": null,
      "outputs": []
    },
    {
      "cell_type": "code",
      "source": [
        "#"
      ],
      "metadata": {
        "id": "pbGQ63WAVcuj"
      },
      "execution_count": null,
      "outputs": []
    },
    {
      "cell_type": "code",
      "source": [
        "#"
      ],
      "metadata": {
        "id": "E7sSkxkOVc-j"
      },
      "execution_count": null,
      "outputs": []
    },
    {
      "cell_type": "code",
      "source": [
        "#"
      ],
      "metadata": {
        "id": "oXDta9I4VdPD"
      },
      "execution_count": null,
      "outputs": []
    },
    {
      "cell_type": "code",
      "source": [
        "#"
      ],
      "metadata": {
        "id": "-yu5u-bxVdhk"
      },
      "execution_count": null,
      "outputs": []
    },
    {
      "cell_type": "code",
      "source": [
        "#"
      ],
      "metadata": {
        "id": "9UvT5iPsVdyV"
      },
      "execution_count": null,
      "outputs": []
    },
    {
      "cell_type": "code",
      "source": [
        "#"
      ],
      "metadata": {
        "id": "AB2M0j1bVeFc"
      },
      "execution_count": null,
      "outputs": []
    },
    {
      "cell_type": "code",
      "source": [
        "#"
      ],
      "metadata": {
        "id": "zon1i-zIVeV6"
      },
      "execution_count": null,
      "outputs": []
    },
    {
      "cell_type": "code",
      "source": [
        "#"
      ],
      "metadata": {
        "id": "RhqYASfBVemi"
      },
      "execution_count": null,
      "outputs": []
    },
    {
      "cell_type": "code",
      "source": [
        "#"
      ],
      "metadata": {
        "id": "lZ1ytYB2Ve6N"
      },
      "execution_count": null,
      "outputs": []
    },
    {
      "cell_type": "code",
      "source": [
        "#"
      ],
      "metadata": {
        "id": "kHO7kKn-VfQH"
      },
      "execution_count": null,
      "outputs": []
    },
    {
      "cell_type": "code",
      "source": [
        "#"
      ],
      "metadata": {
        "id": "50mVfjbDVh-I"
      },
      "execution_count": null,
      "outputs": []
    },
    {
      "cell_type": "code",
      "source": [
        "#"
      ],
      "metadata": {
        "id": "RhpG2eflViTw"
      },
      "execution_count": null,
      "outputs": []
    },
    {
      "cell_type": "code",
      "source": [
        "#"
      ],
      "metadata": {
        "id": "kTZ8c7KnVijK"
      },
      "execution_count": null,
      "outputs": []
    },
    {
      "cell_type": "code",
      "source": [
        "#"
      ],
      "metadata": {
        "id": "-SKRpy48Vi6O"
      },
      "execution_count": null,
      "outputs": []
    },
    {
      "cell_type": "code",
      "source": [
        "#"
      ],
      "metadata": {
        "id": "56wccb6RVjKI"
      },
      "execution_count": null,
      "outputs": []
    },
    {
      "cell_type": "code",
      "source": [
        "#\n"
      ],
      "metadata": {
        "id": "ZJJ30-aZVjZX"
      },
      "execution_count": null,
      "outputs": []
    },
    {
      "cell_type": "code",
      "source": [
        "#"
      ],
      "metadata": {
        "id": "UYM_josUVju6"
      },
      "execution_count": null,
      "outputs": []
    },
    {
      "cell_type": "code",
      "source": [
        "#"
      ],
      "metadata": {
        "id": "eVvICxcZVkAZ"
      },
      "execution_count": null,
      "outputs": []
    },
    {
      "cell_type": "code",
      "source": [
        "#"
      ],
      "metadata": {
        "id": "WxnVTd4SVkkj"
      },
      "execution_count": null,
      "outputs": []
    },
    {
      "cell_type": "code",
      "source": [
        "#"
      ],
      "metadata": {
        "id": "Q8IGzH6eVnwE"
      },
      "execution_count": null,
      "outputs": []
    },
    {
      "cell_type": "code",
      "source": [
        "#"
      ],
      "metadata": {
        "id": "BZT8_fSnVoAu"
      },
      "execution_count": null,
      "outputs": []
    },
    {
      "cell_type": "code",
      "source": [
        "#"
      ],
      "metadata": {
        "id": "9XWUX-CnVoQa"
      },
      "execution_count": null,
      "outputs": []
    },
    {
      "cell_type": "code",
      "source": [
        "#"
      ],
      "metadata": {
        "id": "gnfobw_MVokQ"
      },
      "execution_count": null,
      "outputs": []
    },
    {
      "cell_type": "code",
      "source": [
        "#"
      ],
      "metadata": {
        "id": "bgvdBRhxVozM"
      },
      "execution_count": null,
      "outputs": []
    },
    {
      "cell_type": "code",
      "source": [
        "#"
      ],
      "metadata": {
        "id": "a7f3p5FPVpCa"
      },
      "execution_count": null,
      "outputs": []
    },
    {
      "cell_type": "code",
      "source": [
        "#"
      ],
      "metadata": {
        "id": "MzU3F23VVpT_"
      },
      "execution_count": null,
      "outputs": []
    },
    {
      "cell_type": "code",
      "source": [],
      "metadata": {
        "id": "rqfjnvVhVpjD"
      },
      "execution_count": null,
      "outputs": []
    }
  ]
}