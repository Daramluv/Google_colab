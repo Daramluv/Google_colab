{
  "nbformat": 4,
  "nbformat_minor": 0,
  "metadata": {
    "colab": {
      "provenance": [],
      "authorship_tag": "ABX9TyNljFmINn0Y4cN3DN0gR8/y",
      "include_colab_link": true
    },
    "kernelspec": {
      "name": "python3",
      "display_name": "Python 3"
    },
    "language_info": {
      "name": "python"
    }
  },
  "cells": [
    {
      "cell_type": "markdown",
      "metadata": {
        "id": "view-in-github",
        "colab_type": "text"
      },
      "source": [
        "<a href=\"https://colab.research.google.com/github/Daramluv/Google_colab/blob/main/Classification_Model.ipynb\" target=\"_parent\"><img src=\"https://colab.research.google.com/assets/colab-badge.svg\" alt=\"Open In Colab\"/></a>"
      ]
    },
    {
      "cell_type": "code",
      "execution_count": null,
      "metadata": {
        "colab": {
          "base_uri": "https://localhost:8080/"
        },
        "id": "M-sRjoxK4TKP",
        "outputId": "d9a90e7b-7e07-4670-b943-39ca934300d7"
      },
      "outputs": [
        {
          "output_type": "stream",
          "name": "stdout",
          "text": [
            "Collecting vecstack\n",
            "  Downloading vecstack-0.4.0.tar.gz (18 kB)\n",
            "  Preparing metadata (setup.py) ... \u001b[?25l\u001b[?25hdone\n",
            "Requirement already satisfied: numpy in /usr/local/lib/python3.10/dist-packages (from vecstack) (1.26.4)\n",
            "Requirement already satisfied: scipy in /usr/local/lib/python3.10/dist-packages (from vecstack) (1.13.1)\n",
            "Requirement already satisfied: scikit-learn>=0.18 in /usr/local/lib/python3.10/dist-packages (from vecstack) (1.5.2)\n",
            "Requirement already satisfied: joblib>=1.2.0 in /usr/local/lib/python3.10/dist-packages (from scikit-learn>=0.18->vecstack) (1.4.2)\n",
            "Requirement already satisfied: threadpoolctl>=3.1.0 in /usr/local/lib/python3.10/dist-packages (from scikit-learn>=0.18->vecstack) (3.5.0)\n",
            "Building wheels for collected packages: vecstack\n",
            "  Building wheel for vecstack (setup.py) ... \u001b[?25l\u001b[?25hdone\n",
            "  Created wheel for vecstack: filename=vecstack-0.4.0-py3-none-any.whl size=19861 sha256=86a30b069bd320d8443907dc2e098c385770eb198997f66ef24774e4a9bc7ef7\n",
            "  Stored in directory: /root/.cache/pip/wheels/b8/d8/51/3cf39adf22c522b0a91dc2208db4e9de4d2d9d171683596220\n",
            "Successfully built vecstack\n",
            "Installing collected packages: vecstack\n",
            "Successfully installed vecstack-0.4.0\n"
          ]
        }
      ],
      "source": [
        "!pip install vecstack"
      ]
    },
    {
      "cell_type": "code",
      "source": [
        "from vecstack import stacking\n",
        "import matplotlib.pyplot as plt\n",
        "import pandas as pd\n",
        "import numpy as np\n",
        "from sklearn.metrics import accuracy_score #works\n",
        "from sklearn.model_selection import train_test_split\n",
        "from sklearn.ensemble import RandomForestClassifier\n",
        "from sklearn.tree import DecisionTreeClassifier\n",
        "from sklearn.model_selection import GridSearchCV\n",
        "from sklearn.model_selection import RandomizedSearchCV\n",
        "from sklearn.model_selection import cross_val_score\n",
        "from sklearn.metrics import classification_report, confusion_matrix\n",
        "from sklearn.ensemble import GradientBoostingClassifier\n",
        "from sklearn.svm import SVC, LinearSVC\n",
        "from sklearn.neural_network import MLPClassifier\n",
        "from sklearn.neighbors import KNeighborsClassifier\n",
        "from sklearn.linear_model import LogisticRegression\n",
        "\n",
        "\n",
        "#from sklearn.ensemble import RandomForestClassifier\n",
        "from imblearn.over_sampling import SMOTE\n",
        "from sklearn.svm import SVC\n",
        "from collections import Counter #for Smote,\n",
        "\n",
        "import warnings\n",
        "warnings.filterwarnings(\"ignore\")"
      ],
      "metadata": {
        "id": "dn8LiXy44jut"
      },
      "execution_count": null,
      "outputs": []
    },
    {
      "cell_type": "code",
      "source": [
        "trainfile =r\"/content/RevisedHomesiteTrain1.csv\"\n",
        "train_data = pd.read_csv(trainfile)\n",
        "print(train_data.shape)\n",
        "print(train_data.head(5))"
      ],
      "metadata": {
        "colab": {
          "base_uri": "https://localhost:8080/"
        },
        "id": "ksgfOCuD4n4d",
        "outputId": "dc21ffd1-24aa-44ec-cea5-df0176cb6c23"
      },
      "execution_count": null,
      "outputs": [
        {
          "output_type": "stream",
          "name": "stdout",
          "text": [
            "(65000, 596)\n",
            "   CoverageField11A  CoverageField11B  CoverageField1A  CoverageField1B  \\\n",
            "0                 2                 1               17               23   \n",
            "1                 5                 9                6                8   \n",
            "2                 4                 6                7               12   \n",
            "3                15                23                3                2   \n",
            "4                 4                 6                8               13   \n",
            "\n",
            "   CoverageField2A  CoverageField2B  CoverageField3A  CoverageField3B  \\\n",
            "0               17               23               15               22   \n",
            "1                6                8                5                7   \n",
            "2                7               12                6               10   \n",
            "3                3                2                2                2   \n",
            "4                8               13                7               11   \n",
            "\n",
            "   CoverageField4A  CoverageField4B  ...  PropertyField38_N  \\\n",
            "0               16               22  ...                  1   \n",
            "1                5                8  ...                  1   \n",
            "2                7               11  ...                  1   \n",
            "3                3                2  ...                  1   \n",
            "4                7               13  ...                  1   \n",
            "\n",
            "   PropertyField38_Y  GeographicField63_   GeographicField63_N  \\\n",
            "0                  0                    0                    1   \n",
            "1                  0                    0                    1   \n",
            "2                  0                    0                    1   \n",
            "3                  0                    0                    1   \n",
            "4                  0                    0                    1   \n",
            "\n",
            "   GeographicField63_Y  GeographicField64_CA  GeographicField64_IL  \\\n",
            "0                    0                     1                     0   \n",
            "1                    0                     0                     0   \n",
            "2                    0                     0                     0   \n",
            "3                    0                     0                     0   \n",
            "4                    0                     0                     1   \n",
            "\n",
            "   GeographicField64_NJ  GeographicField64_TX  QuoteConversion_Flag  \n",
            "0                     0                     0                     0  \n",
            "1                     1                     0                     0  \n",
            "2                     1                     0                     0  \n",
            "3                     0                     1                     0  \n",
            "4                     0                     0                     0  \n",
            "\n",
            "[5 rows x 596 columns]\n"
          ]
        }
      ]
    },
    {
      "cell_type": "code",
      "source": [
        "testfile =r\"/content/RevisedHomesiteTest1.csv\"\n",
        "test_data = pd.read_csv(testfile)\n",
        "\n",
        "print(test_data.shape)\n",
        "print(test_data.head())"
      ],
      "metadata": {
        "colab": {
          "base_uri": "https://localhost:8080/"
        },
        "id": "LY1mXSKQ4tTi",
        "outputId": "9566b29d-f225-4aa3-9f9d-308b09132b92"
      },
      "execution_count": null,
      "outputs": [
        {
          "output_type": "stream",
          "name": "stdout",
          "text": [
            "(128827, 596)\n",
            "   CoverageField11A  CoverageField11B  CoverageField1A  CoverageField1B  \\\n",
            "0                13                22                4                4   \n",
            "1                 4                 5                8               14   \n",
            "2                 3                 3               11               18   \n",
            "3                 5                 9               14               22   \n",
            "4                12                21                4                5   \n",
            "\n",
            "   CoverageField2A  CoverageField2B  CoverageField3A  CoverageField3B  \\\n",
            "0                4                4                3                3   \n",
            "1                8               14                7               12   \n",
            "2               11               18               10               16   \n",
            "3               15               22               13               20   \n",
            "4                4                5                4                4   \n",
            "\n",
            "   CoverageField4A  CoverageField4B  ...  PropertyField38_N  \\\n",
            "0                3                4  ...                1.0   \n",
            "1                8               13  ...                1.0   \n",
            "2               10               18  ...                1.0   \n",
            "3               22               25  ...                1.0   \n",
            "4                4                5  ...                1.0   \n",
            "\n",
            "   PropertyField38_Y  GeographicField63_   GeographicField63_N  \\\n",
            "0                0.0                  0.0                  0.0   \n",
            "1                0.0                  0.0                  1.0   \n",
            "2                0.0                  0.0                  1.0   \n",
            "3                0.0                  0.0                  1.0   \n",
            "4                0.0                  0.0                  1.0   \n",
            "\n",
            "   GeographicField63_Y  GeographicField64_CA  GeographicField64_IL  \\\n",
            "0                  1.0                   0.0                   0.0   \n",
            "1                  0.0                   0.0                   0.0   \n",
            "2                  0.0                   0.0                   0.0   \n",
            "3                  0.0                   0.0                   0.0   \n",
            "4                  0.0                   0.0                   0.0   \n",
            "\n",
            "   GeographicField64_NJ  GeographicField64_TX  GeographicField64  \n",
            "0                   0.0                   0.0                 IL  \n",
            "1                   0.0                   0.0                 NJ  \n",
            "2                   0.0                   0.0                 NJ  \n",
            "3                   0.0                   0.0                 TX  \n",
            "4                   0.0                   0.0                 CA  \n",
            "\n",
            "[5 rows x 596 columns]\n"
          ]
        }
      ]
    },
    {
      "cell_type": "code",
      "source": [
        "print(test_data.columns)"
      ],
      "metadata": {
        "colab": {
          "base_uri": "https://localhost:8080/"
        },
        "id": "P8JmdAKxPV-o",
        "outputId": "f4597567-e671-448d-b8be-7939720688e5"
      },
      "execution_count": null,
      "outputs": [
        {
          "output_type": "stream",
          "name": "stdout",
          "text": [
            "Index(['CoverageField11A', 'CoverageField11B', 'CoverageField1A',\n",
            "       'CoverageField1B', 'CoverageField2A', 'CoverageField2B',\n",
            "       'CoverageField3A', 'CoverageField3B', 'CoverageField4A',\n",
            "       'CoverageField4B',\n",
            "       ...\n",
            "       'PropertyField38_N', 'PropertyField38_Y', 'GeographicField63_ ',\n",
            "       'GeographicField63_N', 'GeographicField63_Y', 'GeographicField64_CA',\n",
            "       'GeographicField64_IL', 'GeographicField64_NJ', 'GeographicField64_TX',\n",
            "       'GeographicField64'],\n",
            "      dtype='object', length=596)\n"
          ]
        }
      ]
    },
    {
      "cell_type": "code",
      "source": [
        "print(train_data.columns)"
      ],
      "metadata": {
        "colab": {
          "base_uri": "https://localhost:8080/"
        },
        "id": "2JSe9tyM4wsP",
        "outputId": "66382a02-3805-4c5b-8094-07258c20ae53"
      },
      "execution_count": null,
      "outputs": [
        {
          "output_type": "stream",
          "name": "stdout",
          "text": [
            "Index(['CoverageField11A', 'CoverageField11B', 'CoverageField1A',\n",
            "       'CoverageField1B', 'CoverageField2A', 'CoverageField2B',\n",
            "       'CoverageField3A', 'CoverageField3B', 'CoverageField4A',\n",
            "       'CoverageField4B',\n",
            "       ...\n",
            "       'PropertyField38_N', 'PropertyField38_Y', 'GeographicField63_ ',\n",
            "       'GeographicField63_N', 'GeographicField63_Y', 'GeographicField64_CA',\n",
            "       'GeographicField64_IL', 'GeographicField64_NJ', 'GeographicField64_TX',\n",
            "       'QuoteConversion_Flag'],\n",
            "      dtype='object', length=596)\n"
          ]
        }
      ]
    },
    {
      "cell_type": "code",
      "source": [
        "# 'QuoteConversion_Flag'\n",
        "print(train_data['QuoteConversion_Flag'].value_counts())\n",
        "print(train_data['QuoteConversion_Flag'].value_counts(normalize=True))\n",
        "\n",
        "# visualization\n",
        "train_data['QuoteConversion_Flag'].value_counts().plot(kind='bar', title='Class Distribution')\n",
        "plt.xlabel('Class')\n",
        "plt.ylabel('Count')\n",
        "plt.show()"
      ],
      "metadata": {
        "colab": {
          "base_uri": "https://localhost:8080/",
          "height": 606
        },
        "id": "yY0D54Gl4zM0",
        "outputId": "9b6c076a-1f07-4c6d-820e-53fc1ba8a941"
      },
      "execution_count": null,
      "outputs": [
        {
          "output_type": "stream",
          "name": "stdout",
          "text": [
            "QuoteConversion_Flag\n",
            "0    52738\n",
            "1    12262\n",
            "Name: count, dtype: int64\n",
            "QuoteConversion_Flag\n",
            "0    0.811354\n",
            "1    0.188646\n",
            "Name: proportion, dtype: float64\n"
          ]
        },
        {
          "output_type": "display_data",
          "data": {
            "text/plain": [
              "<Figure size 640x480 with 1 Axes>"
            ],
            "image/png": "[encoded data removed]"
          },
          "metadata": {}
        }
      ]
    },
    {
      "cell_type": "code",
      "source": [
        "X_train = train_data.drop('QuoteConversion_Flag', axis=1)\n",
        "y_train = train_data['QuoteConversion_Flag']\n",
        "\n",
        "# Load test data\n",
        "X_test = test_data\n",
        "X_test1=X_test.iloc[:, :-1].copy()"
      ],
      "metadata": {
        "id": "niPX_XHo8sd0"
      },
      "execution_count": null,
      "outputs": []
    },
    {
      "cell_type": "code",
      "source": [
        "X = train_data.drop('QuoteConversion_Flag', axis=1)\n",
        "y = train_data['QuoteConversion_Flag']\n",
        "\n",
        "# X와 y가 동일한 크기인지 확인\n",
        "print(X.shape, y.shape)"
      ],
      "metadata": {
        "colab": {
          "base_uri": "https://localhost:8080/"
        },
        "id": "rOCcdgaLphhr",
        "outputId": "54f0b975-46ea-4896-8fa6-697e9588ca6a"
      },
      "execution_count": null,
      "outputs": [
        {
          "output_type": "stream",
          "name": "stdout",
          "text": [
            "(65000, 595) (65000,)\n"
          ]
        }
      ]
    },
    {
      "cell_type": "code",
      "source": [
        "# Train-test split\n",
        "X = train_data.drop('QuoteConversion_Flag', axis=1)\n",
        "y = train_data['QuoteConversion_Flag']\n",
        "X_train, X_test, y_train, y_test = train_test_split(X, y, test_size=0.3, random_state=42)\n",
        "\n",
        "# Different SMOTE strategies\n",
        "sampling_strategies = [0.4, 0.5, 0.6]\n",
        "results = []\n",
        "\n",
        "for strategy in sampling_strategies:\n",
        "    print(f\"===== SMOTE Sampling Strategy: {strategy} =====\")\n",
        "\n",
        "    # Apply SMOTE to training data only\n",
        "    smote = SMOTE(sampling_strategy=strategy, random_state=42)\n",
        "    X_res, y_res = smote.fit_resample(X_train, y_train)\n",
        "\n",
        "    # Train model\n",
        "    model = MLPClassifier(max_iter=200, random_state=42)\n",
        "    model.fit(X_res, y_res)\n",
        "\n",
        "    # Predict on original test data (unaltered by SMOTE)\n",
        "    y_pred = model.predict(X_test)\n",
        "\n",
        "    # Evaluate results\n",
        "    accuracy = accuracy_score(y_test, y_pred)\n",
        "    print(f\"Accuracy: {accuracy}\")\n",
        "    print(classification_report(y_test, y_pred))\n",
        "\n",
        "    # Store results\n",
        "    results.append({\n",
        "        'Sampling Strategy': strategy,\n",
        "        'Accuracy': accuracy\n",
        "    })\n",
        "\n",
        "# Display results\n",
        "results_df = pd.DataFrame(results)\n",
        "print(results_df)"
      ],
      "metadata": {
        "colab": {
          "base_uri": "https://localhost:8080/"
        },
        "id": "T-_BfznLnmVq",
        "outputId": "d7cd52b7-99c2-4ad4-d2b6-d2bcd626b68f"
      },
      "execution_count": null,
      "outputs": [
        {
          "output_type": "stream",
          "name": "stdout",
          "text": [
            "===== SMOTE Sampling Strategy: 0.4 =====\n",
            "Accuracy: 0.8396923076923077\n",
            "              precision    recall  f1-score   support\n",
            "\n",
            "           0       0.85      0.97      0.91     15811\n",
            "           1       0.70      0.26      0.38      3689\n",
            "\n",
            "    accuracy                           0.84     19500\n",
            "   macro avg       0.78      0.62      0.65     19500\n",
            "weighted avg       0.82      0.84      0.81     19500\n",
            "\n",
            "===== SMOTE Sampling Strategy: 0.5 =====\n",
            "Accuracy: 0.7911282051282051\n",
            "              precision    recall  f1-score   support\n",
            "\n",
            "           0       0.94      0.79      0.86     15811\n",
            "           1       0.47      0.79      0.59      3689\n",
            "\n",
            "    accuracy                           0.79     19500\n",
            "   macro avg       0.71      0.79      0.72     19500\n",
            "weighted avg       0.85      0.79      0.81     19500\n",
            "\n",
            "===== SMOTE Sampling Strategy: 0.6 =====\n",
            "Accuracy: 0.8553333333333333\n",
            "              precision    recall  f1-score   support\n",
            "\n",
            "           0       0.92      0.90      0.91     15811\n",
            "           1       0.61      0.65      0.63      3689\n",
            "\n",
            "    accuracy                           0.86     19500\n",
            "   macro avg       0.76      0.78      0.77     19500\n",
            "weighted avg       0.86      0.86      0.86     19500\n",
            "\n",
            "   Sampling Strategy  Accuracy\n",
            "0                0.4  0.839692\n",
            "1                0.5  0.791128\n",
            "2                0.6  0.855333\n"
          ]
        }
      ]
    },
    {
      "cell_type": "code",
      "source": [
        "print(\"___________________________________________________________________\\nSMOTE\\n\")\n",
        "print('Original dataset shape %s' % Counter(y_train))\n",
        "sm = SMOTE(sampling_strategy=0.5)\n",
        "X_res, y_res = sm.fit_resample(X_train, y_train)\n",
        "print('Resampled dataset shape %s' % Counter(y_res))"
      ],
      "metadata": {
        "colab": {
          "base_uri": "https://localhost:8080/"
        },
        "id": "AApxDOGeDnI6",
        "outputId": "0fc17921-70d6-41a9-c91e-265ccf8bfd61"
      },
      "execution_count": null,
      "outputs": [
        {
          "output_type": "stream",
          "name": "stdout",
          "text": [
            "___________________________________________________________________\n",
            "SMOTE\n",
            "\n",
            "Original dataset shape Counter({0: 36927, 1: 8573})\n",
            "Resampled dataset shape Counter({0: 36927, 1: 18463})\n"
          ]
        }
      ]
    },
    {
      "cell_type": "code",
      "source": [
        "X_train_split, X_test_split, y_train_split, y_test_split = train_test_split(X_train, y_train, test_size=0.2, random_state=42)\n"
      ],
      "metadata": {
        "id": "PPvimjLZT-KK"
      },
      "execution_count": null,
      "outputs": []
    },
    {
      "cell_type": "code",
      "source": [
        "models = [ KNeighborsClassifier(), MLPClassifier(), LinearSVC(), RandomForestClassifier(), DecisionTreeClassifier() ]\n",
        "\n",
        "S_Train, S_Test = stacking(models,\n",
        "                           X_res, y_res, X_test1,\n",
        "                           regression=False,\n",
        "\n",
        "                           mode='oof_pred_bag',\n",
        "\n",
        "                           needs_proba=False,\n",
        "\n",
        "                           save_dir=None,\n",
        "\n",
        "                           metric=accuracy_score,\n",
        "\n",
        "                           n_folds=4,\n",
        "\n",
        "                           stratified=True,\n",
        "\n",
        "                           shuffle=True,\n",
        "\n",
        "                           random_state=0,\n",
        "\n",
        "                           verbose=2)\n"
      ],
      "metadata": {
        "colab": {
          "base_uri": "https://localhost:8080/"
        },
        "id": "969aoNMh-PC5",
        "outputId": "9cadd3e0-09ab-4589-ace6-3c0e3626c865"
      },
      "execution_count": null,
      "outputs": [
        {
          "output_type": "stream",
          "name": "stdout",
          "text": [
            "task:         [classification]\n",
            "n_classes:    [2]\n",
            "metric:       [accuracy_score]\n",
            "mode:         [oof_pred_bag]\n",
            "n_models:     [5]\n",
            "\n",
            "model  0:     [KNeighborsClassifier]\n",
            "    fold  0:  [0.69490179]\n",
            "    fold  1:  [0.68955806]\n",
            "    fold  2:  [0.69885174]\n",
            "    fold  3:  [0.69170217]\n",
            "    ----\n",
            "    MEAN:     [0.69375344] + [0.00350429]\n",
            "    FULL:     [0.69375339]\n",
            "\n",
            "model  1:     [MLPClassifier]\n",
            "    fold  0:  [0.85853553]\n",
            "    fold  1:  [0.76097631]\n",
            "    fold  2:  [0.82819383]\n",
            "    fold  3:  [0.64541056]\n",
            "    ----\n",
            "    MEAN:     [0.77327906] + [0.08183216]\n",
            "    FULL:     [0.77328038]\n",
            "\n",
            "model  2:     [LinearSVC]\n",
            "    fold  0:  [0.89095898]\n",
            "    fold  1:  [0.87709417]\n",
            "    fold  2:  [0.90221709]\n",
            "    fold  3:  [0.77619701]\n",
            "    ----\n",
            "    MEAN:     [0.86161681] + [0.05011346]\n",
            "    FULL:     [0.86161762]\n",
            "\n",
            "model  3:     [RandomForestClassifier]\n",
            "    fold  0:  [0.91659445]\n",
            "    fold  1:  [0.91774986]\n",
            "    fold  2:  [0.92236586]\n",
            "    fold  3:  [0.92395465]\n",
            "    ----\n",
            "    MEAN:     [0.92016620] + [0.00307355]\n",
            "    FULL:     [0.92016609]\n",
            "\n",
            "model  4:     [DecisionTreeClassifier]\n",
            "    fold  0:  [0.89074235]\n",
            "    fold  1:  [0.89377527]\n",
            "    fold  2:  [0.89622301]\n",
            "    fold  3:  [0.89990612]\n",
            "    ----\n",
            "    MEAN:     [0.89516169] + [0.00335741]\n",
            "    FULL:     [0.89516158]\n",
            "\n"
          ]
        }
      ]
    },
    {
      "cell_type": "code",
      "source": [
        "#final_model = RandomForestClassifier(random_state=42, n_estimators=100)\n",
        "#final_model.fit(S_train, y_res)\n",
        "\n",
        "#y_pred = final_model.predict(S_test)\n",
        "#Kaggle score 0.82066"
      ],
      "metadata": {
        "id": "dPX655Z5UB_1"
      },
      "execution_count": null,
      "outputs": []
    },
    {
      "cell_type": "code",
      "source": [
        "# Ensure consistent sample sizes between S_train and y_res\n",
        "min_samples = min(S_train.shape[0], y_res.shape[0])\n",
        "S_train = S_train[:min_samples, :]\n",
        "y_res = y_res[:min_samples]\n",
        "\n",
        "# Confirm the new sizes\n",
        "print(\"Adjusted S_train shape:\", S_train.shape)\n",
        "print(\"Adjusted y_res shape:\", y_res.shape)"
      ],
      "metadata": {
        "colab": {
          "base_uri": "https://localhost:8080/"
        },
        "id": "VNPCPrzNgZ8r",
        "outputId": "737b0490-fe64-48a3-f19f-7f48e0f62e32"
      },
      "execution_count": null,
      "outputs": [
        {
          "output_type": "stream",
          "name": "stdout",
          "text": [
            "Adjusted S_train shape: (59083, 5)\n",
            "Adjusted y_res shape: (59083,)\n"
          ]
        }
      ]
    },
    {
      "cell_type": "code",
      "source": [
        "# Initialize the Gradient Boosting Classifier\n",
        "final_model = GradientBoostingClassifier(random_state=42)\n",
        "\n",
        "# Fit the model with the adjusted data\n",
        "final_model.fit(S_train, y_res)\n",
        "\n",
        "# Predict on the stacked test set\n",
        "y_pred = final_model.predict(S_test)\n",
        "#Kaggle score 0.82121"
      ],
      "metadata": {
        "id": "EoUZDHbJe1r3"
      },
      "execution_count": null,
      "outputs": []
    },
    {
      "cell_type": "code",
      "source": [
        "submission = pd.DataFrame({\n",
        "    'QuoteNumber': test_data['QuoteNumber'],\n",
        "    'QuoteConversion_Flag': y_pred\n",
        "})\n",
        "submission.to_csv('submission.csv', index=False)"
      ],
      "metadata": {
        "id": "tAz_dXEZbUp_"
      },
      "execution_count": null,
      "outputs": []
    },
    {
      "cell_type": "code",
      "source": [],
      "metadata": {
        "id": "2iYvhZH8cxhg"
      },
      "execution_count": null,
      "outputs": []
    }
  ]
}