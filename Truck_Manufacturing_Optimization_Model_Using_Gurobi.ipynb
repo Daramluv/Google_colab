{
  "nbformat": 4,
  "nbformat_minor": 0,
  "metadata": {
    "colab": {
      "provenance": [],
      "authorship_tag": "ABX9TyOzSk7zGximHH0IgqZ7ngnl",
      "include_colab_link": true
    },
    "kernelspec": {
      "name": "python3",
      "display_name": "Python 3"
    },
    "language_info": {
      "name": "python"
    }
  },
  "cells": [
    {
      "cell_type": "markdown",
      "metadata": {
        "id": "view-in-github",
        "colab_type": "text"
      },
      "source": [
        "<a href=\"https://colab.research.google.com/github/Daramluv/Google_colab/blob/main/Truck_Manufacturing_Optimization_Model_Using_Gurobi.ipynb\" target=\"_parent\"><img src=\"https://colab.research.google.com/assets/colab-badge.svg\" alt=\"Open In Colab\"/></a>"
      ]
    },
    {
      "cell_type": "code",
      "execution_count": 1,
      "metadata": {
        "colab": {
          "base_uri": "https://localhost:8080/",
          "height": 0
        },
        "id": "PNXzNXEGqCBY",
        "outputId": "1f041772-7055-449b-b4f6-44ab15c22a0b"
      },
      "outputs": [
        {
          "output_type": "stream",
          "name": "stdout",
          "text": [
            "Collecting gurobipy\n",
            "  Downloading gurobipy-12.0.0-cp310-cp310-manylinux2014_x86_64.manylinux_2_17_x86_64.whl.metadata (15 kB)\n",
            "Downloading gurobipy-12.0.0-cp310-cp310-manylinux2014_x86_64.manylinux_2_17_x86_64.whl (14.4 MB)\n",
            "\u001b[2K   \u001b[90m━━━━━━━━━━━━━━━━━━━━━━━━━━━━━━━━━━━━━━━━\u001b[0m \u001b[32m14.4/14.4 MB\u001b[0m \u001b[31m24.8 MB/s\u001b[0m eta \u001b[36m0:00:00\u001b[0m\n",
            "\u001b[?25hInstalling collected packages: gurobipy\n",
            "Successfully installed gurobipy-12.0.0\n"
          ]
        }
      ],
      "source": [
        "pip install gurobipy"
      ]
    },
    {
      "cell_type": "code",
      "source": [
        "import gurobipy as gp\n",
        "from gurobipy import GRB\n",
        "import numpy as np"
      ],
      "metadata": {
        "id": "OvFZHm1tqDR2"
      },
      "execution_count": 2,
      "outputs": []
    },
    {
      "cell_type": "code",
      "source": [
        "\n",
        "# Create a new Gurobi model\n",
        "model = gp.Model(\"TruckManufacture\")\n",
        "\n",
        "# Data\n",
        "type_trucks = 2\n",
        "type_Labor=2\n",
        "laborHours=np.array([[650,550],[1400,1000]])\n",
        "sellingPrice=np.array([2500,3000])"
      ],
      "metadata": {
        "colab": {
          "base_uri": "https://localhost:8080/",
          "height": 0
        },
        "id": "Iq9MOx51qI2I",
        "outputId": "fbf478e2-f5f9-442f-bbfd-28ad20965f83"
      },
      "execution_count": 3,
      "outputs": [
        {
          "output_type": "stream",
          "name": "stdout",
          "text": [
            "Restricted license - for non-production use only - expires 2026-11-23\n"
          ]
        }
      ]
    },
    {
      "cell_type": "code",
      "source": [
        "# Create the decision variables\n",
        "x = {}\n",
        "for j in range(type_trucks):\n",
        "    x[j] = model.addVar(vtype=GRB.INTEGER, name=f\"x_{j}\")"
      ],
      "metadata": {
        "id": "L5-ZUz1ZqKmm"
      },
      "execution_count": 4,
      "outputs": []
    },
    {
      "cell_type": "code",
      "source": [
        "# Set objective: maximize profit\n",
        "model.setObjective(\n",
        "    gp.quicksum(sellingPrice[j] * x[j]  for j in range(type_trucks)),\n",
        "    GRB.MAXIMIZE,\n",
        ")"
      ],
      "metadata": {
        "id": "Ll9HI7h9qMlz"
      },
      "execution_count": 5,
      "outputs": []
    },
    {
      "cell_type": "code",
      "source": [
        "# Constraints\n",
        "\n",
        "# Ensure Max labor Hours\n",
        "for j in range(type_Labor):\n",
        "    model.addConstr(gp.quicksum(1 / laborHours[j,c] * x[j] for c in range(type_trucks))  <= 1 ,f'Max labor hours')"
      ],
      "metadata": {
        "id": "KiuDkyc1qOXh"
      },
      "execution_count": 6,
      "outputs": []
    },
    {
      "cell_type": "code",
      "source": [
        "# Optimize the model\n",
        "model.optimize()\n",
        "\n",
        "# Print the results\n",
        "if model.status == GRB.OPTIMAL:\n",
        "    print(\"Optimal solution found:\")\n",
        "    for j in range(type_trucks):\n",
        "        if x[j].x > 0:\n",
        "            print(f\"Truck {j + 1}\",x[j].x )\n",
        "\n",
        "    print(f\"Total Revenue: ${model.objVal:.2f}\")\n",
        "else:\n",
        "    print(\"No solution found.\")\n"
      ],
      "metadata": {
        "colab": {
          "base_uri": "https://localhost:8080/",
          "height": 0
        },
        "id": "Z3oOeDPWqQB5",
        "outputId": "aee2dd70-83a9-4da9-9508-8c8332b22b08"
      },
      "execution_count": 7,
      "outputs": [
        {
          "output_type": "stream",
          "name": "stdout",
          "text": [
            "Gurobi Optimizer version 12.0.0 build v12.0.0rc1 (linux64 - \"Ubuntu 22.04.3 LTS\")\n",
            "\n",
            "CPU model: Intel(R) Xeon(R) CPU @ 2.20GHz, instruction set [SSE2|AVX|AVX2]\n",
            "Thread count: 1 physical cores, 2 logical processors, using up to 2 threads\n",
            "\n",
            "Optimize a model with 2 rows, 2 columns and 2 nonzeros\n",
            "Model fingerprint: 0x2956c55f\n",
            "Variable types: 0 continuous, 2 integer (0 binary)\n",
            "Coefficient statistics:\n",
            "  Matrix range     [2e-03, 3e-03]\n",
            "  Objective range  [2e+03, 3e+03]\n",
            "  Bounds range     [0e+00, 0e+00]\n",
            "  RHS range        [1e+00, 1e+00]\n",
            "Found heuristic solution: objective 2491500.0000\n",
            "Presolve removed 2 rows and 2 columns\n",
            "Presolve time: 0.00s\n",
            "Presolve: All rows and columns removed\n",
            "\n",
            "Explored 0 nodes (0 simplex iterations) in 0.02 seconds (0.00 work units)\n",
            "Thread count was 1 (of 2 available processors)\n",
            "\n",
            "Solution count 1: 2.4915e+06 \n",
            "\n",
            "Optimal solution found (tolerance 1.00e-04)\n",
            "Best objective 2.491500000000e+06, best bound 2.491500000000e+06, gap 0.0000%\n",
            "Optimal solution found:\n",
            "Truck 1 297.0\n",
            "Truck 2 583.0\n",
            "Total Revenue: $2491500.00\n"
          ]
        }
      ]
    },
    {
      "cell_type": "code",
      "source": [],
      "metadata": {
        "id": "Coj_v5h_qRyx"
      },
      "execution_count": null,
      "outputs": []
    }
  ]
}